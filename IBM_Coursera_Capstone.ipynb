{
 "cells": [
  {
   "cell_type": "markdown",
   "metadata": {},
   "source": [
    "# Coursera Capstone Project \n",
    "\n",
    "This is a Descriptive Analysis of the spread of Covid19 in New York City, NY, USA."
   ]
  },
  {
   "cell_type": "markdown",
   "metadata": {},
   "source": [
    "## Data Acquisition"
   ]
  },
  {
   "cell_type": "markdown",
   "metadata": {},
   "source": [
    "#### Installing BeautifulSoup4 and importing needed initial packages "
   ]
  },
  {
   "cell_type": "code",
   "execution_count": 1,
   "metadata": {},
   "outputs": [
    {
     "name": "stdout",
     "output_type": "stream",
     "text": [
      "Initial packages installed\n"
     ]
    }
   ],
   "source": [
    "#!pip install beautifulsoup4\n",
    "#!pip install lxml\n",
    "#!pip install requests\n",
    "\n",
    "from bs4 import BeautifulSoup\n",
    "import requests\n",
    "import pandas as pd\n",
    "import numpy as np\n",
    "import csv \n",
    "\n",
    "print('Initial packages installed')"
   ]
  },
  {
   "cell_type": "markdown",
   "metadata": {},
   "source": [
    "### Scraping Covid19 statistics from NYC Health's Github account \n",
    "\n",
    "The data is saved in a .csv file and is updated regularly. It contains a list of NYC zipcodes with:\n",
    " <ul>\n",
    "  <li>The number of tests with a positive result</li>\n",
    "  <li>The total number of tests taken within the zip code</li>\n",
    "  <li>The positive tests as a percentage of the total tests</li>\n",
    "</ul> "
   ]
  },
  {
   "cell_type": "code",
   "execution_count": 2,
   "metadata": {},
   "outputs": [],
   "source": [
    "nyc_raw = requests.get('https://github.com/nychealth/coronavirus-data/blob/master/tests-by-zcta.csv').text\n",
    "nyc_soup = BeautifulSoup(nyc_raw, 'lxml')"
   ]
  },
  {
   "cell_type": "markdown",
   "metadata": {},
   "source": [
    "#### Scraping the page and extracting the .csv table and its content \n",
    "\n",
    "The rows and data were copied and stored in a dataframe called \"df_covid19\""
   ]
  },
  {
   "cell_type": "code",
   "execution_count": 3,
   "metadata": {},
   "outputs": [],
   "source": [
    "soup_content = nyc_soup.find('div', class_='application-main')\n",
    "nyc_table = soup_content.find('table', class_='js-csv-data csv-data js-file-line-container')\n",
    "table = nyc_table.find_all('tbody')\n",
    "#table\n",
    "\n",
    "rows = table[0].find_all('tr')\n",
    "#rows"
   ]
  },
  {
   "cell_type": "code",
   "execution_count": 4,
   "metadata": {},
   "outputs": [],
   "source": [
    "zipcodes = []\n",
    "positive_tests = []\n",
    "total_tests = []\n",
    "percentage_total = []\n",
    "\n",
    "for row in rows:    \n",
    "    columns = row.find_all('td')\n",
    "    \n",
    "    zipcode = columns[1].text\n",
    "    positive_test = columns[2].text\n",
    "    total_test = columns[3].text\n",
    "    percentage = columns[4].text\n",
    "    \n",
    "    zipcodes.append(zipcode)\n",
    "    positive_tests.append(positive_test)\n",
    "    total_tests.append(total_test)\n",
    "    percentage_total.append(percentage)\n",
    "    \n",
    "\n",
    "    "
   ]
  },
  {
   "cell_type": "code",
   "execution_count": 5,
   "metadata": {},
   "outputs": [
    {
     "data": {
      "text/html": [
       "<div>\n",
       "<style scoped>\n",
       "    .dataframe tbody tr th:only-of-type {\n",
       "        vertical-align: middle;\n",
       "    }\n",
       "\n",
       "    .dataframe tbody tr th {\n",
       "        vertical-align: top;\n",
       "    }\n",
       "\n",
       "    .dataframe thead th {\n",
       "        text-align: right;\n",
       "    }\n",
       "</style>\n",
       "<table border=\"1\" class=\"dataframe\">\n",
       "  <thead>\n",
       "    <tr style=\"text-align: right;\">\n",
       "      <th></th>\n",
       "      <th>Zip Code</th>\n",
       "      <th>Positive Tests</th>\n",
       "      <th>Total Tests</th>\n",
       "      <th>Percentage of Total</th>\n",
       "    </tr>\n",
       "  </thead>\n",
       "  <tbody>\n",
       "    <tr>\n",
       "      <th>0</th>\n",
       "      <td>NA</td>\n",
       "      <td>1845</td>\n",
       "      <td>2073</td>\n",
       "      <td>89</td>\n",
       "    </tr>\n",
       "    <tr>\n",
       "      <th>1</th>\n",
       "      <td>10001</td>\n",
       "      <td>266</td>\n",
       "      <td>600</td>\n",
       "      <td>44.33</td>\n",
       "    </tr>\n",
       "    <tr>\n",
       "      <th>2</th>\n",
       "      <td>10002</td>\n",
       "      <td>729</td>\n",
       "      <td>1419</td>\n",
       "      <td>51.37</td>\n",
       "    </tr>\n",
       "    <tr>\n",
       "      <th>3</th>\n",
       "      <td>10003</td>\n",
       "      <td>355</td>\n",
       "      <td>857</td>\n",
       "      <td>41.42</td>\n",
       "    </tr>\n",
       "    <tr>\n",
       "      <th>4</th>\n",
       "      <td>10004</td>\n",
       "      <td>26</td>\n",
       "      <td>66</td>\n",
       "      <td>39.39</td>\n",
       "    </tr>\n",
       "  </tbody>\n",
       "</table>\n",
       "</div>"
      ],
      "text/plain": [
       "  Zip Code Positive Tests Total Tests Percentage of Total\n",
       "0       NA           1845        2073                  89\n",
       "1    10001            266         600               44.33\n",
       "2    10002            729        1419               51.37\n",
       "3    10003            355         857               41.42\n",
       "4    10004             26          66               39.39"
      ]
     },
     "execution_count": 5,
     "metadata": {},
     "output_type": "execute_result"
    }
   ],
   "source": [
    "df_covid19 = pd.DataFrame(list(zip(zipcodes, positive_tests, total_tests, percentage_total)), \\\n",
    "                  columns =['Zip Code', 'Positive Tests','Total Tests', 'Percentage of Total']) \n",
    "\n",
    "df_covid19.head()"
   ]
  },
  {
   "cell_type": "code",
   "execution_count": 6,
   "metadata": {
    "scrolled": true
   },
   "outputs": [
    {
     "data": {
      "text/html": [
       "<div>\n",
       "<style scoped>\n",
       "    .dataframe tbody tr th:only-of-type {\n",
       "        vertical-align: middle;\n",
       "    }\n",
       "\n",
       "    .dataframe tbody tr th {\n",
       "        vertical-align: top;\n",
       "    }\n",
       "\n",
       "    .dataframe thead th {\n",
       "        text-align: right;\n",
       "    }\n",
       "</style>\n",
       "<table border=\"1\" class=\"dataframe\">\n",
       "  <thead>\n",
       "    <tr style=\"text-align: right;\">\n",
       "      <th></th>\n",
       "      <th>Zip Code</th>\n",
       "      <th>Positive Tests</th>\n",
       "      <th>Total Tests</th>\n",
       "      <th>Percentage of Total</th>\n",
       "    </tr>\n",
       "  </thead>\n",
       "  <tbody>\n",
       "    <tr>\n",
       "      <th>0</th>\n",
       "      <td>10001</td>\n",
       "      <td>266</td>\n",
       "      <td>600</td>\n",
       "      <td>44.33</td>\n",
       "    </tr>\n",
       "    <tr>\n",
       "      <th>1</th>\n",
       "      <td>10002</td>\n",
       "      <td>729</td>\n",
       "      <td>1419</td>\n",
       "      <td>51.37</td>\n",
       "    </tr>\n",
       "    <tr>\n",
       "      <th>2</th>\n",
       "      <td>10003</td>\n",
       "      <td>355</td>\n",
       "      <td>857</td>\n",
       "      <td>41.42</td>\n",
       "    </tr>\n",
       "    <tr>\n",
       "      <th>3</th>\n",
       "      <td>10004</td>\n",
       "      <td>26</td>\n",
       "      <td>66</td>\n",
       "      <td>39.39</td>\n",
       "    </tr>\n",
       "    <tr>\n",
       "      <th>4</th>\n",
       "      <td>10005</td>\n",
       "      <td>44</td>\n",
       "      <td>140</td>\n",
       "      <td>31.43</td>\n",
       "    </tr>\n",
       "    <tr>\n",
       "      <th>5</th>\n",
       "      <td>10006</td>\n",
       "      <td>15</td>\n",
       "      <td>58</td>\n",
       "      <td>25.86</td>\n",
       "    </tr>\n",
       "    <tr>\n",
       "      <th>6</th>\n",
       "      <td>10007</td>\n",
       "      <td>42</td>\n",
       "      <td>142</td>\n",
       "      <td>29.58</td>\n",
       "    </tr>\n",
       "    <tr>\n",
       "      <th>7</th>\n",
       "      <td>10009</td>\n",
       "      <td>530</td>\n",
       "      <td>1230</td>\n",
       "      <td>43.09</td>\n",
       "    </tr>\n",
       "    <tr>\n",
       "      <th>8</th>\n",
       "      <td>10010</td>\n",
       "      <td>203</td>\n",
       "      <td>591</td>\n",
       "      <td>34.35</td>\n",
       "    </tr>\n",
       "    <tr>\n",
       "      <th>9</th>\n",
       "      <td>10011</td>\n",
       "      <td>403</td>\n",
       "      <td>892</td>\n",
       "      <td>45.18</td>\n",
       "    </tr>\n",
       "  </tbody>\n",
       "</table>\n",
       "</div>"
      ],
      "text/plain": [
       "  Zip Code Positive Tests Total Tests Percentage of Total\n",
       "0    10001            266         600               44.33\n",
       "1    10002            729        1419               51.37\n",
       "2    10003            355         857               41.42\n",
       "3    10004             26          66               39.39\n",
       "4    10005             44         140               31.43\n",
       "5    10006             15          58               25.86\n",
       "6    10007             42         142               29.58\n",
       "7    10009            530        1230               43.09\n",
       "8    10010            203         591               34.35\n",
       "9    10011            403         892               45.18"
      ]
     },
     "execution_count": 6,
     "metadata": {},
     "output_type": "execute_result"
    }
   ],
   "source": [
    "# The first row was dropped for analysis purposes \n",
    "\n",
    "df_covid19.drop([0], axis = 0, inplace = True)\n",
    "df_covid19.reset_index(drop=True).head(10)"
   ]
  },
  {
   "cell_type": "markdown",
   "metadata": {},
   "source": [
    "### Scraping NYC's demographic statistics from city-data.com\n",
    "\n",
    "This page contains a list of zipcode with its:\n",
    " <ul>\n",
    "  <li>Population Density</li>\n",
    "  <li>Median Income</li>\n",
    "</ul> \n",
    "\n",
    "Some zip codes have missing data which will be addressed below."
   ]
  },
  {
   "cell_type": "code",
   "execution_count": 7,
   "metadata": {},
   "outputs": [],
   "source": [
    "nyc_stat_raw = requests.get('http://www.city-data.com/zipmaps/New-York-New-York.html').text\n",
    "stat_soup = BeautifulSoup(nyc_stat_raw, 'lxml') "
   ]
  },
  {
   "cell_type": "code",
   "execution_count": 8,
   "metadata": {},
   "outputs": [],
   "source": [
    "stat_soup_content = stat_soup.find('div',{\"id\": \"body\"}, class_='container-fluid')"
   ]
  },
  {
   "cell_type": "markdown",
   "metadata": {},
   "source": [
    "#### Gets the list of available zipcodes on the page"
   ]
  },
  {
   "cell_type": "code",
   "execution_count": 9,
   "metadata": {},
   "outputs": [],
   "source": [
    "avail_zipcodes_raw = stat_soup.find('div', class_='zip-codes')\n",
    "zip_rows = avail_zipcodes_raw.find_all('a')\n",
    "#zip_rows"
   ]
  },
  {
   "cell_type": "code",
   "execution_count": 10,
   "metadata": {},
   "outputs": [],
   "source": [
    "zip_rows_clean = []\n",
    "for row in zip_rows:\n",
    "    zip_rows_clean.append(row.text)\n",
    "    "
   ]
  },
  {
   "cell_type": "markdown",
   "metadata": {},
   "source": [
    "#### The following rows are either hidden or do not contain data, and they will be removed from the list of zip codes"
   ]
  },
  {
   "cell_type": "code",
   "execution_count": 11,
   "metadata": {
    "scrolled": true
   },
   "outputs": [
    {
     "name": "stdout",
     "output_type": "stream",
     "text": [
      "17\n",
      "39\n",
      "41\n",
      "42\n",
      "43\n",
      "44\n",
      "45\n",
      "46\n",
      "47\n",
      "49\n",
      "50\n",
      "51\n",
      "53\n",
      "54\n",
      "55\n",
      "56\n",
      "57\n",
      "58\n",
      "59\n",
      "60\n",
      "61\n",
      "62\n",
      "63\n",
      "64\n",
      "65\n",
      "66\n",
      "79\n",
      "118\n",
      "174\n"
     ]
    }
   ],
   "source": [
    "#prints the index of the zip codes to be removed\n",
    "\n",
    "print(zip_rows_clean.index('10020'))\n",
    "print(zip_rows_clean.index('10065'))\n",
    "print(zip_rows_clean.index('10075'))\n",
    "print(zip_rows_clean.index('10103'))\n",
    "print(zip_rows_clean.index('10110'))\n",
    "print(zip_rows_clean.index('10111'))\n",
    "print(zip_rows_clean.index('10112'))\n",
    "print(zip_rows_clean.index('10115'))\n",
    "print(zip_rows_clean.index('10119'))\n",
    "print(zip_rows_clean.index('10152'))\n",
    "print(zip_rows_clean.index('10153'))\n",
    "print(zip_rows_clean.index('10154'))\n",
    "print(zip_rows_clean.index('10165'))\n",
    "print(zip_rows_clean.index('10167'))\n",
    "print(zip_rows_clean.index('10168'))\n",
    "print(zip_rows_clean.index('10169'))\n",
    "print(zip_rows_clean.index('10170'))\n",
    "print(zip_rows_clean.index('10171'))\n",
    "print(zip_rows_clean.index('10172'))\n",
    "print(zip_rows_clean.index('10173'))\n",
    "print(zip_rows_clean.index('10174'))\n",
    "print(zip_rows_clean.index('10177'))\n",
    "print(zip_rows_clean.index('10199'))\n",
    "print(zip_rows_clean.index('10271'))\n",
    "print(zip_rows_clean.index('10278'))\n",
    "print(zip_rows_clean.index('10279'))\n",
    "print(zip_rows_clean.index('10311'))\n",
    "print(zip_rows_clean.index('11109'))\n",
    "print(zip_rows_clean.index('11371'))"
   ]
  },
  {
   "cell_type": "code",
   "execution_count": 12,
   "metadata": {},
   "outputs": [],
   "source": [
    "# deletes these rows from zip_rows_clean\n",
    "\n",
    "index_list = [17,39,41,42,43,44,45,46,47,49,50,51,53,54,55,56,57,58,59,60,61,62,63,64,65,66,79,118,174]\n",
    "zip_rows_clean1 = np.delete(zip_rows_clean, index_list).tolist()\n"
   ]
  },
  {
   "cell_type": "markdown",
   "metadata": {},
   "source": [
    "#### Scraping the population density and median income data from each zip code data block"
   ]
  },
  {
   "cell_type": "code",
   "execution_count": 13,
   "metadata": {},
   "outputs": [],
   "source": [
    "# Finds all data blocks\n",
    "\n",
    "table_data = stat_soup.find_all('div', class_='zip data-block')"
   ]
  },
  {
   "cell_type": "markdown",
   "metadata": {},
   "source": [
    "#### This function formats each data entry and assigns it as a float "
   ]
  },
  {
   "cell_type": "code",
   "execution_count": 14,
   "metadata": {},
   "outputs": [],
   "source": [
    "def clean_pop(element):\n",
    "    element = str(element)\n",
    "    element = element.replace(' ','') # removes empty space \n",
    "    element = element.replace(',','') # removes comma \n",
    "    element = float(element)          # changes data type to float \n",
    "    return element\n",
    "\n",
    "\n",
    "def clean_income(element):\n",
    "    element = str(element)\n",
    "    element = element.replace('$','') # removes $ sign\n",
    "    element = element.replace(' ','') # removes empty space\n",
    "    element = element.replace(',','') # removes comma \n",
    "    element = float(element)          # changes data type to float \n",
    "    return element"
   ]
  },
  {
   "cell_type": "markdown",
   "metadata": {},
   "source": [
    "#### Demographic statistics are storerd in a DataFrame called \"df_stats\""
   ]
  },
  {
   "cell_type": "code",
   "execution_count": 15,
   "metadata": {},
   "outputs": [],
   "source": [
    "populations = []\n",
    "incomes = []\n",
    "\n",
    "for data in table_data:\n",
    "    try:\n",
    "        population = data.find_all('b')[9].next_sibling\n",
    "        population = clean_pop(population)\n",
    "        \n",
    "    \n",
    "        income = data.find('b', text = 'Estimated median household income in 2016:').next_sibling\n",
    "        income = clean_income(income)\n",
    "    \n",
    "        populations.append(population)\n",
    "        incomes.append(income)\n",
    "        \n",
    "    except Exception as e:\n",
    "        pass\n"
   ]
  },
  {
   "cell_type": "code",
   "execution_count": 16,
   "metadata": {},
   "outputs": [
    {
     "data": {
      "text/html": [
       "<div>\n",
       "<style scoped>\n",
       "    .dataframe tbody tr th:only-of-type {\n",
       "        vertical-align: middle;\n",
       "    }\n",
       "\n",
       "    .dataframe tbody tr th {\n",
       "        vertical-align: top;\n",
       "    }\n",
       "\n",
       "    .dataframe thead th {\n",
       "        text-align: right;\n",
       "    }\n",
       "</style>\n",
       "<table border=\"1\" class=\"dataframe\">\n",
       "  <thead>\n",
       "    <tr style=\"text-align: right;\">\n",
       "      <th></th>\n",
       "      <th>Zip Code</th>\n",
       "      <th>Population Density</th>\n",
       "      <th>Median Income</th>\n",
       "    </tr>\n",
       "  </thead>\n",
       "  <tbody>\n",
       "    <tr>\n",
       "      <th>0</th>\n",
       "      <td>10001</td>\n",
       "      <td>38085.0</td>\n",
       "      <td>88701.0</td>\n",
       "    </tr>\n",
       "    <tr>\n",
       "      <th>1</th>\n",
       "      <td>10002</td>\n",
       "      <td>90078.0</td>\n",
       "      <td>37071.0</td>\n",
       "    </tr>\n",
       "    <tr>\n",
       "      <th>2</th>\n",
       "      <td>10003</td>\n",
       "      <td>99889.0</td>\n",
       "      <td>104972.0</td>\n",
       "    </tr>\n",
       "    <tr>\n",
       "      <th>3</th>\n",
       "      <td>10004</td>\n",
       "      <td>5515.0</td>\n",
       "      <td>128161.0</td>\n",
       "    </tr>\n",
       "    <tr>\n",
       "      <th>4</th>\n",
       "      <td>10005</td>\n",
       "      <td>120158.0</td>\n",
       "      <td>135514.0</td>\n",
       "    </tr>\n",
       "  </tbody>\n",
       "</table>\n",
       "</div>"
      ],
      "text/plain": [
       "  Zip Code  Population Density  Median Income\n",
       "0    10001             38085.0        88701.0\n",
       "1    10002             90078.0        37071.0\n",
       "2    10003             99889.0       104972.0\n",
       "3    10004              5515.0       128161.0\n",
       "4    10005            120158.0       135514.0"
      ]
     },
     "execution_count": 16,
     "metadata": {},
     "output_type": "execute_result"
    }
   ],
   "source": [
    "df_stats = pd.DataFrame(list(zip(zip_rows_clean1,populations,incomes)), \\\n",
    "                  columns =['Zip Code', 'Population Density', 'Median Income'])\n",
    "\n",
    "df_stats.head()"
   ]
  },
  {
   "cell_type": "markdown",
   "metadata": {},
   "source": [
    "#### Performing inner join to compile Covid19 and demographic data into one DataFrame named \"df_merged\""
   ]
  },
  {
   "cell_type": "code",
   "execution_count": 17,
   "metadata": {},
   "outputs": [
    {
     "data": {
      "text/html": [
       "<div>\n",
       "<style scoped>\n",
       "    .dataframe tbody tr th:only-of-type {\n",
       "        vertical-align: middle;\n",
       "    }\n",
       "\n",
       "    .dataframe tbody tr th {\n",
       "        vertical-align: top;\n",
       "    }\n",
       "\n",
       "    .dataframe thead th {\n",
       "        text-align: right;\n",
       "    }\n",
       "</style>\n",
       "<table border=\"1\" class=\"dataframe\">\n",
       "  <thead>\n",
       "    <tr style=\"text-align: right;\">\n",
       "      <th></th>\n",
       "      <th>Zip Code</th>\n",
       "      <th>Positive Tests</th>\n",
       "      <th>Total Tests</th>\n",
       "      <th>Percentage of Total</th>\n",
       "      <th>Population Density</th>\n",
       "      <th>Median Income</th>\n",
       "    </tr>\n",
       "  </thead>\n",
       "  <tbody>\n",
       "    <tr>\n",
       "      <th>0</th>\n",
       "      <td>10001</td>\n",
       "      <td>266</td>\n",
       "      <td>600</td>\n",
       "      <td>44.33</td>\n",
       "      <td>38085.0</td>\n",
       "      <td>88701.0</td>\n",
       "    </tr>\n",
       "    <tr>\n",
       "      <th>1</th>\n",
       "      <td>10002</td>\n",
       "      <td>729</td>\n",
       "      <td>1419</td>\n",
       "      <td>51.37</td>\n",
       "      <td>90078.0</td>\n",
       "      <td>37071.0</td>\n",
       "    </tr>\n",
       "    <tr>\n",
       "      <th>2</th>\n",
       "      <td>10003</td>\n",
       "      <td>355</td>\n",
       "      <td>857</td>\n",
       "      <td>41.42</td>\n",
       "      <td>99889.0</td>\n",
       "      <td>104972.0</td>\n",
       "    </tr>\n",
       "    <tr>\n",
       "      <th>3</th>\n",
       "      <td>10004</td>\n",
       "      <td>26</td>\n",
       "      <td>66</td>\n",
       "      <td>39.39</td>\n",
       "      <td>5515.0</td>\n",
       "      <td>128161.0</td>\n",
       "    </tr>\n",
       "    <tr>\n",
       "      <th>4</th>\n",
       "      <td>10005</td>\n",
       "      <td>44</td>\n",
       "      <td>140</td>\n",
       "      <td>31.43</td>\n",
       "      <td>120158.0</td>\n",
       "      <td>135514.0</td>\n",
       "    </tr>\n",
       "  </tbody>\n",
       "</table>\n",
       "</div>"
      ],
      "text/plain": [
       "  Zip Code Positive Tests Total Tests Percentage of Total  Population Density  \\\n",
       "0    10001            266         600               44.33             38085.0   \n",
       "1    10002            729        1419               51.37             90078.0   \n",
       "2    10003            355         857               41.42             99889.0   \n",
       "3    10004             26          66               39.39              5515.0   \n",
       "4    10005             44         140               31.43            120158.0   \n",
       "\n",
       "   Median Income  \n",
       "0        88701.0  \n",
       "1        37071.0  \n",
       "2       104972.0  \n",
       "3       128161.0  \n",
       "4       135514.0  "
      ]
     },
     "execution_count": 17,
     "metadata": {},
     "output_type": "execute_result"
    }
   ],
   "source": [
    "df_merged = pd.merge(left=df_covid19, right=df_stats, left_on='Zip Code', right_on='Zip Code')\n",
    "df_merged.head()"
   ]
  },
  {
   "cell_type": "markdown",
   "metadata": {},
   "source": [
    "#### Entries after 123 are removed due to missing/messy data"
   ]
  },
  {
   "cell_type": "code",
   "execution_count": 18,
   "metadata": {},
   "outputs": [],
   "source": [
    "list1 = list(range(123,169))\n",
    "df_merged.drop(list1, axis = 0, inplace = True)"
   ]
  },
  {
   "cell_type": "markdown",
   "metadata": {},
   "source": [
    "### OpenCage API is used to gather the latitude, longitude, and venue data for each zip code"
   ]
  },
  {
   "cell_type": "markdown",
   "metadata": {},
   "source": [
    "#### OpenCage API credentials"
   ]
  },
  {
   "cell_type": "code",
   "execution_count": 19,
   "metadata": {},
   "outputs": [],
   "source": [
    "API_KEY = '5e232949c48244eb888c484b236c9534'"
   ]
  },
  {
   "cell_type": "code",
   "execution_count": 20,
   "metadata": {},
   "outputs": [],
   "source": [
    "import json \n",
    "\n",
    "#creates list of zipcodes from df_merged \n",
    "df_zips = df_merged['Zip Code'].values\n",
    "\n",
    "latitudes = [] #initializes empty list to append latitude data\n",
    "longitudes = [] #initializes empty list to append longitude data\n",
    "\n",
    "for zipcode in df_zips:\n",
    "    location_input = str(zipcode) + \" New York City, NY\" # correct location input format \n",
    "    url = 'https://api.opencagedata.com/geocode/v1/json?q={}&key={}'.format(location_input, API_KEY) # correct url format\n",
    "    obj = json.loads(requests.get(url).text)  # Gets the json file, stores in a dictionary\n",
    "    \n",
    "    results = obj['results'] # gets the 'results' key\n",
    "    latitude = results[0]['geometry']['lat'] # gets the 'latitude' data \n",
    "    longitude = results[0]['geometry']['lng'] #gets the 'longitude' data\n",
    "    \n",
    "    latitudes.append(latitude) # Appends data to the list of latitudes\n",
    "    longitudes.append(longitude) # Appends data to the list of longitudes"
   ]
  },
  {
   "cell_type": "markdown",
   "metadata": {},
   "source": [
    "#### Creates columns for each zip code's latitude and longitude"
   ]
  },
  {
   "cell_type": "code",
   "execution_count": 21,
   "metadata": {},
   "outputs": [
    {
     "data": {
      "text/html": [
       "<div>\n",
       "<style scoped>\n",
       "    .dataframe tbody tr th:only-of-type {\n",
       "        vertical-align: middle;\n",
       "    }\n",
       "\n",
       "    .dataframe tbody tr th {\n",
       "        vertical-align: top;\n",
       "    }\n",
       "\n",
       "    .dataframe thead th {\n",
       "        text-align: right;\n",
       "    }\n",
       "</style>\n",
       "<table border=\"1\" class=\"dataframe\">\n",
       "  <thead>\n",
       "    <tr style=\"text-align: right;\">\n",
       "      <th></th>\n",
       "      <th>Zip Code</th>\n",
       "      <th>Positive Tests</th>\n",
       "      <th>Total Tests</th>\n",
       "      <th>Percentage of Total</th>\n",
       "      <th>Population Density</th>\n",
       "      <th>Median Income</th>\n",
       "      <th>Latitude</th>\n",
       "      <th>Longitude</th>\n",
       "    </tr>\n",
       "  </thead>\n",
       "  <tbody>\n",
       "    <tr>\n",
       "      <th>0</th>\n",
       "      <td>10001</td>\n",
       "      <td>266</td>\n",
       "      <td>600</td>\n",
       "      <td>44.33</td>\n",
       "      <td>38085.0</td>\n",
       "      <td>88701.0</td>\n",
       "      <td>40.729825</td>\n",
       "      <td>-73.960752</td>\n",
       "    </tr>\n",
       "    <tr>\n",
       "      <th>1</th>\n",
       "      <td>10002</td>\n",
       "      <td>729</td>\n",
       "      <td>1419</td>\n",
       "      <td>51.37</td>\n",
       "      <td>90078.0</td>\n",
       "      <td>37071.0</td>\n",
       "      <td>40.722313</td>\n",
       "      <td>-73.987709</td>\n",
       "    </tr>\n",
       "    <tr>\n",
       "      <th>2</th>\n",
       "      <td>10003</td>\n",
       "      <td>355</td>\n",
       "      <td>857</td>\n",
       "      <td>41.42</td>\n",
       "      <td>99889.0</td>\n",
       "      <td>104972.0</td>\n",
       "      <td>40.731609</td>\n",
       "      <td>-73.988484</td>\n",
       "    </tr>\n",
       "    <tr>\n",
       "      <th>3</th>\n",
       "      <td>10004</td>\n",
       "      <td>26</td>\n",
       "      <td>66</td>\n",
       "      <td>39.39</td>\n",
       "      <td>5515.0</td>\n",
       "      <td>128161.0</td>\n",
       "      <td>40.700732</td>\n",
       "      <td>-74.013475</td>\n",
       "    </tr>\n",
       "    <tr>\n",
       "      <th>4</th>\n",
       "      <td>10005</td>\n",
       "      <td>44</td>\n",
       "      <td>140</td>\n",
       "      <td>31.43</td>\n",
       "      <td>120158.0</td>\n",
       "      <td>135514.0</td>\n",
       "      <td>40.705636</td>\n",
       "      <td>-74.008900</td>\n",
       "    </tr>\n",
       "  </tbody>\n",
       "</table>\n",
       "</div>"
      ],
      "text/plain": [
       "  Zip Code Positive Tests Total Tests Percentage of Total  Population Density  \\\n",
       "0    10001            266         600               44.33             38085.0   \n",
       "1    10002            729        1419               51.37             90078.0   \n",
       "2    10003            355         857               41.42             99889.0   \n",
       "3    10004             26          66               39.39              5515.0   \n",
       "4    10005             44         140               31.43            120158.0   \n",
       "\n",
       "   Median Income   Latitude  Longitude  \n",
       "0        88701.0  40.729825 -73.960752  \n",
       "1        37071.0  40.722313 -73.987709  \n",
       "2       104972.0  40.731609 -73.988484  \n",
       "3       128161.0  40.700732 -74.013475  \n",
       "4       135514.0  40.705636 -74.008900  "
      ]
     },
     "execution_count": 21,
     "metadata": {},
     "output_type": "execute_result"
    }
   ],
   "source": [
    "df_merged['Latitude'] = latitudes\n",
    "df_merged['Longitude'] = longitudes\n",
    "df_merged.head()"
   ]
  },
  {
   "cell_type": "code",
   "execution_count": 22,
   "metadata": {},
   "outputs": [
    {
     "data": {
      "text/html": [
       "<div>\n",
       "<style scoped>\n",
       "    .dataframe tbody tr th:only-of-type {\n",
       "        vertical-align: middle;\n",
       "    }\n",
       "\n",
       "    .dataframe tbody tr th {\n",
       "        vertical-align: top;\n",
       "    }\n",
       "\n",
       "    .dataframe thead th {\n",
       "        text-align: right;\n",
       "    }\n",
       "</style>\n",
       "<table border=\"1\" class=\"dataframe\">\n",
       "  <thead>\n",
       "    <tr style=\"text-align: right;\">\n",
       "      <th></th>\n",
       "      <th>Zip Code</th>\n",
       "      <th>Latitude</th>\n",
       "      <th>Longitude</th>\n",
       "      <th>Population Density</th>\n",
       "      <th>Median Income</th>\n",
       "      <th>Positive Tests</th>\n",
       "      <th>Total Tests</th>\n",
       "      <th>Percentage of Total</th>\n",
       "    </tr>\n",
       "  </thead>\n",
       "  <tbody>\n",
       "    <tr>\n",
       "      <th>0</th>\n",
       "      <td>10001</td>\n",
       "      <td>40.729825</td>\n",
       "      <td>-73.960752</td>\n",
       "      <td>38085.0</td>\n",
       "      <td>88701.0</td>\n",
       "      <td>266</td>\n",
       "      <td>600</td>\n",
       "      <td>44.33</td>\n",
       "    </tr>\n",
       "    <tr>\n",
       "      <th>1</th>\n",
       "      <td>10002</td>\n",
       "      <td>40.722313</td>\n",
       "      <td>-73.987709</td>\n",
       "      <td>90078.0</td>\n",
       "      <td>37071.0</td>\n",
       "      <td>729</td>\n",
       "      <td>1419</td>\n",
       "      <td>51.37</td>\n",
       "    </tr>\n",
       "    <tr>\n",
       "      <th>2</th>\n",
       "      <td>10003</td>\n",
       "      <td>40.731609</td>\n",
       "      <td>-73.988484</td>\n",
       "      <td>99889.0</td>\n",
       "      <td>104972.0</td>\n",
       "      <td>355</td>\n",
       "      <td>857</td>\n",
       "      <td>41.42</td>\n",
       "    </tr>\n",
       "    <tr>\n",
       "      <th>3</th>\n",
       "      <td>10004</td>\n",
       "      <td>40.700732</td>\n",
       "      <td>-74.013475</td>\n",
       "      <td>5515.0</td>\n",
       "      <td>128161.0</td>\n",
       "      <td>26</td>\n",
       "      <td>66</td>\n",
       "      <td>39.39</td>\n",
       "    </tr>\n",
       "    <tr>\n",
       "      <th>4</th>\n",
       "      <td>10005</td>\n",
       "      <td>40.705636</td>\n",
       "      <td>-74.008900</td>\n",
       "      <td>120158.0</td>\n",
       "      <td>135514.0</td>\n",
       "      <td>44</td>\n",
       "      <td>140</td>\n",
       "      <td>31.43</td>\n",
       "    </tr>\n",
       "  </tbody>\n",
       "</table>\n",
       "</div>"
      ],
      "text/plain": [
       "  Zip Code   Latitude  Longitude  Population Density  Median Income  \\\n",
       "0    10001  40.729825 -73.960752             38085.0        88701.0   \n",
       "1    10002  40.722313 -73.987709             90078.0        37071.0   \n",
       "2    10003  40.731609 -73.988484             99889.0       104972.0   \n",
       "3    10004  40.700732 -74.013475              5515.0       128161.0   \n",
       "4    10005  40.705636 -74.008900            120158.0       135514.0   \n",
       "\n",
       "  Positive Tests Total Tests Percentage of Total  \n",
       "0            266         600               44.33  \n",
       "1            729        1419               51.37  \n",
       "2            355         857               41.42  \n",
       "3             26          66               39.39  \n",
       "4             44         140               31.43  "
      ]
     },
     "execution_count": 22,
     "metadata": {},
     "output_type": "execute_result"
    }
   ],
   "source": [
    "# rearranges the columns\n",
    "\n",
    "df_merged = df_merged[['Zip Code','Latitude','Longitude','Population Density','Median Income','Positive Tests', \\\n",
    "                      'Total Tests','Percentage of Total']]\n",
    "df_merged.head()"
   ]
  },
  {
   "cell_type": "markdown",
   "metadata": {},
   "source": [
    "#### Installing and importing needed packages to visualize zip codes and their content"
   ]
  },
  {
   "cell_type": "code",
   "execution_count": 23,
   "metadata": {},
   "outputs": [],
   "source": [
    "#!pip install geopy\n",
    "from geopy.geocoders import Nominatim\n",
    "\n",
    "from pandas.io.json import json_normalize\n",
    "\n",
    "import matplotlib.cm as cm\n",
    "import matplotlib.colors as colors\n",
    "\n",
    "#!pip install folium\n",
    "import folium"
   ]
  },
  {
   "cell_type": "markdown",
   "metadata": {},
   "source": [
    "#### Generates coordinates of New York City"
   ]
  },
  {
   "cell_type": "code",
   "execution_count": 24,
   "metadata": {},
   "outputs": [
    {
     "name": "stdout",
     "output_type": "stream",
     "text": [
      "The geograpical coordinate of New York City are 40.7127281, -74.0060152.\n"
     ]
    }
   ],
   "source": [
    "address = 'New York City, NY'\n",
    "\n",
    "geolocator = Nominatim(user_agent=\"nyc_explorer\")\n",
    "location = geolocator.geocode(address)\n",
    "nyc_latitude = location.latitude\n",
    "nyc_longitude = location.longitude\n",
    "print('The geograpical coordinate of New York City are {}, {}.'.format(nyc_latitude, nyc_longitude))"
   ]
  },
  {
   "cell_type": "markdown",
   "metadata": {},
   "source": [
    "#### Visualizes the zipcodes \n",
    "Each zip code pop-up displays its population density, median income, and number of positive tests for Covid19"
   ]
  },
  {
   "cell_type": "code",
   "execution_count": 25,
   "metadata": {
    "scrolled": false
   },
   "outputs": [
    {
     "data": {
      "text/html": [
       "<div style=\"width:100%;\"><div style=\"position:relative;width:100%;height:0;padding-bottom:60%;\"><iframe src=\"about:blank\" style=\"position:absolute;width:100%;height:100%;left:0;top:0;border:none !important;\" data-html=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 onload=\"this.contentDocument.open();this.contentDocument.write(atob(this.getAttribute('data-html')));this.contentDocument.close();\" allowfullscreen webkitallowfullscreen mozallowfullscreen></iframe></div></div>"
      ],
      "text/plain": [
       "<folium.folium.Map at 0x1de4e4a36a0>"
      ]
     },
     "execution_count": 25,
     "metadata": {},
     "output_type": "execute_result"
    }
   ],
   "source": [
    "# initializes map\n",
    "map_nyc = folium.Map(location=[nyc_latitude, nyc_longitude], tiles=\"OpenStreetMap\", zoom_start=10)\n",
    "\n",
    "# add markers to map\n",
    "for lat, lng, zipcode, pop_den, income, positive in zip(df_merged['Latitude'], df_merged['Longitude'], df_merged['Zip Code'], \\\n",
    "                                             df_merged['Population Density'], df_merged['Median Income'], df_merged['Positive Tests']):\n",
    "    label = '{}, {} {} {}, {} {} {}, {} {}' .format(zipcode, ' Population Density: ', pop_den, 'per sq mi','Median Income: ',income, 'USD', \\\n",
    "           'Positive tests for Covid19: ', positive)\n",
    "    label = folium.Popup(label, parse_html=True)\n",
    "    folium.CircleMarker(\n",
    "        [lat, lng],\n",
    "        radius=5,\n",
    "        popup=label,\n",
    "        color='blue',\n",
    "        fill=True,\n",
    "        fill_color='#3186cc',\n",
    "        fill_opacity=0.7,\n",
    "        parse_html=False).add_to(map_nyc)  \n",
    "    \n",
    "map_nyc"
   ]
  },
  {
   "cell_type": "markdown",
   "metadata": {},
   "source": [
    "### Foursquare API is needed to gather data on each zip code's surrounding venues"
   ]
  },
  {
   "cell_type": "markdown",
   "metadata": {},
   "source": [
    "#### Foursquare API credentials"
   ]
  },
  {
   "cell_type": "code",
   "execution_count": 26,
   "metadata": {},
   "outputs": [
    {
     "name": "stdout",
     "output_type": "stream",
     "text": [
      "Your credentails:\n",
      "CLIENT_ID: NVNSTQUGEPDCCEKZ3FKLOWND1FYPVIR3YDLAPQJPV5CYDWWK\n",
      "CLIENT_SECRET:XG233VXSPMLJOQS40H23GWCGGWKNBGJWT1NLSNLDBZYPB4PQ\n"
     ]
    }
   ],
   "source": [
    "CLIENT_ID = 'NVNSTQUGEPDCCEKZ3FKLOWND1FYPVIR3YDLAPQJPV5CYDWWK' # your Foursquare ID\n",
    "CLIENT_SECRET = 'XG233VXSPMLJOQS40H23GWCGGWKNBGJWT1NLSNLDBZYPB4PQ' # your Foursquare Secret\n",
    "VERSION = '20200415' # Foursquare API version\n",
    "\n",
    "print('Your credentails:')\n",
    "print('CLIENT_ID: ' + CLIENT_ID)\n",
    "print('CLIENT_SECRET:' + CLIENT_SECRET)"
   ]
  },
  {
   "cell_type": "markdown",
   "metadata": {},
   "source": [
    "#### Function to generate the url for each API call\n",
    "\n",
    "The radius of search is set to 500 meters \n",
    "<br>\n",
    "The maximum number of venues queried is set to 300 per zip code"
   ]
  },
  {
   "cell_type": "code",
   "execution_count": 27,
   "metadata": {},
   "outputs": [],
   "source": [
    "def url_for_4square(latitude,longitude):\n",
    "    radius=500\n",
    "    LIMIT=300\n",
    "    url = 'https://api.foursquare.com/v2/venues/explore?client_id={}&client_secret={}&ll={},{}&v={}&radius={}&limit={}'.format(CLIENT_ID, CLIENT_SECRET, latitude, longitude, VERSION, radius, LIMIT)\n",
    "    return url"
   ]
  },
  {
   "cell_type": "markdown",
   "metadata": {},
   "source": [
    "#### Makes Fourquare API calls, generates list of number of venues for each zip code "
   ]
  },
  {
   "cell_type": "code",
   "execution_count": 28,
   "metadata": {},
   "outputs": [],
   "source": [
    "number_of_nearby_venues = []\n",
    "for index, row in df_merged.iterrows():   \n",
    "    lat = row['Latitude']\n",
    "    lng = row['Longitude']\n",
    "    url = url_for_4square(lat,lng)    \n",
    "    results = requests.get(url).json()\n",
    "    number_of_nearby_venues.append(len(results['response']['groups'][0]['items']))\n"
   ]
  },
  {
   "cell_type": "markdown",
   "metadata": {},
   "source": [
    "#### Appends this list as a column in \"df_clean\""
   ]
  },
  {
   "cell_type": "code",
   "execution_count": 29,
   "metadata": {},
   "outputs": [
    {
     "data": {
      "text/html": [
       "<div>\n",
       "<style scoped>\n",
       "    .dataframe tbody tr th:only-of-type {\n",
       "        vertical-align: middle;\n",
       "    }\n",
       "\n",
       "    .dataframe tbody tr th {\n",
       "        vertical-align: top;\n",
       "    }\n",
       "\n",
       "    .dataframe thead th {\n",
       "        text-align: right;\n",
       "    }\n",
       "</style>\n",
       "<table border=\"1\" class=\"dataframe\">\n",
       "  <thead>\n",
       "    <tr style=\"text-align: right;\">\n",
       "      <th></th>\n",
       "      <th>Zip Code</th>\n",
       "      <th>Latitude</th>\n",
       "      <th>Longitude</th>\n",
       "      <th>Population Density</th>\n",
       "      <th>Median Income</th>\n",
       "      <th>Positive Tests</th>\n",
       "      <th>Total Tests</th>\n",
       "      <th>Percentage of Total</th>\n",
       "      <th>Nearby Venues</th>\n",
       "    </tr>\n",
       "  </thead>\n",
       "  <tbody>\n",
       "    <tr>\n",
       "      <th>0</th>\n",
       "      <td>10001</td>\n",
       "      <td>40.729825</td>\n",
       "      <td>-73.960752</td>\n",
       "      <td>38085.0</td>\n",
       "      <td>88701.0</td>\n",
       "      <td>266</td>\n",
       "      <td>600</td>\n",
       "      <td>44.33</td>\n",
       "      <td>64</td>\n",
       "    </tr>\n",
       "    <tr>\n",
       "      <th>1</th>\n",
       "      <td>10002</td>\n",
       "      <td>40.722313</td>\n",
       "      <td>-73.987709</td>\n",
       "      <td>90078.0</td>\n",
       "      <td>37071.0</td>\n",
       "      <td>729</td>\n",
       "      <td>1419</td>\n",
       "      <td>51.37</td>\n",
       "      <td>77</td>\n",
       "    </tr>\n",
       "    <tr>\n",
       "      <th>2</th>\n",
       "      <td>10003</td>\n",
       "      <td>40.731609</td>\n",
       "      <td>-73.988484</td>\n",
       "      <td>99889.0</td>\n",
       "      <td>104972.0</td>\n",
       "      <td>355</td>\n",
       "      <td>857</td>\n",
       "      <td>41.42</td>\n",
       "      <td>78</td>\n",
       "    </tr>\n",
       "    <tr>\n",
       "      <th>3</th>\n",
       "      <td>10004</td>\n",
       "      <td>40.700732</td>\n",
       "      <td>-74.013475</td>\n",
       "      <td>5515.0</td>\n",
       "      <td>128161.0</td>\n",
       "      <td>26</td>\n",
       "      <td>66</td>\n",
       "      <td>39.39</td>\n",
       "      <td>24</td>\n",
       "    </tr>\n",
       "    <tr>\n",
       "      <th>4</th>\n",
       "      <td>10005</td>\n",
       "      <td>40.705636</td>\n",
       "      <td>-74.008900</td>\n",
       "      <td>120158.0</td>\n",
       "      <td>135514.0</td>\n",
       "      <td>44</td>\n",
       "      <td>140</td>\n",
       "      <td>31.43</td>\n",
       "      <td>100</td>\n",
       "    </tr>\n",
       "  </tbody>\n",
       "</table>\n",
       "</div>"
      ],
      "text/plain": [
       "  Zip Code   Latitude  Longitude  Population Density  Median Income  \\\n",
       "0    10001  40.729825 -73.960752             38085.0        88701.0   \n",
       "1    10002  40.722313 -73.987709             90078.0        37071.0   \n",
       "2    10003  40.731609 -73.988484             99889.0       104972.0   \n",
       "3    10004  40.700732 -74.013475              5515.0       128161.0   \n",
       "4    10005  40.705636 -74.008900            120158.0       135514.0   \n",
       "\n",
       "  Positive Tests Total Tests Percentage of Total  Nearby Venues  \n",
       "0            266         600               44.33             64  \n",
       "1            729        1419               51.37             77  \n",
       "2            355         857               41.42             78  \n",
       "3             26          66               39.39             24  \n",
       "4             44         140               31.43            100  "
      ]
     },
     "execution_count": 29,
     "metadata": {},
     "output_type": "execute_result"
    }
   ],
   "source": [
    "df_merged['Nearby Venues'] = number_of_nearby_venues\n",
    "df_merged.head()"
   ]
  },
  {
   "cell_type": "markdown",
   "metadata": {},
   "source": [
    "#### Saves this DataFrame as a separate .csv file "
   ]
  },
  {
   "cell_type": "code",
   "execution_count": 30,
   "metadata": {},
   "outputs": [],
   "source": [
    "df_merged.to_csv('NYC_compiled_data_final.csv', index=False)"
   ]
  },
  {
   "cell_type": "code",
   "execution_count": 31,
   "metadata": {},
   "outputs": [
    {
     "data": {
      "text/html": [
       "<div>\n",
       "<style scoped>\n",
       "    .dataframe tbody tr th:only-of-type {\n",
       "        vertical-align: middle;\n",
       "    }\n",
       "\n",
       "    .dataframe tbody tr th {\n",
       "        vertical-align: top;\n",
       "    }\n",
       "\n",
       "    .dataframe thead th {\n",
       "        text-align: right;\n",
       "    }\n",
       "</style>\n",
       "<table border=\"1\" class=\"dataframe\">\n",
       "  <thead>\n",
       "    <tr style=\"text-align: right;\">\n",
       "      <th></th>\n",
       "      <th>Zip Code</th>\n",
       "      <th>Latitude</th>\n",
       "      <th>Longitude</th>\n",
       "      <th>Population Density</th>\n",
       "      <th>Median Income</th>\n",
       "      <th>Positive Tests</th>\n",
       "      <th>Total Tests</th>\n",
       "      <th>Percentage of Total</th>\n",
       "      <th>Nearby Venues</th>\n",
       "    </tr>\n",
       "  </thead>\n",
       "  <tbody>\n",
       "    <tr>\n",
       "      <th>0</th>\n",
       "      <td>10001</td>\n",
       "      <td>40.729825</td>\n",
       "      <td>-73.960752</td>\n",
       "      <td>38085.0</td>\n",
       "      <td>88701.0</td>\n",
       "      <td>266</td>\n",
       "      <td>600</td>\n",
       "      <td>44.33</td>\n",
       "      <td>64</td>\n",
       "    </tr>\n",
       "    <tr>\n",
       "      <th>1</th>\n",
       "      <td>10002</td>\n",
       "      <td>40.722313</td>\n",
       "      <td>-73.987709</td>\n",
       "      <td>90078.0</td>\n",
       "      <td>37071.0</td>\n",
       "      <td>729</td>\n",
       "      <td>1419</td>\n",
       "      <td>51.37</td>\n",
       "      <td>77</td>\n",
       "    </tr>\n",
       "    <tr>\n",
       "      <th>2</th>\n",
       "      <td>10003</td>\n",
       "      <td>40.731609</td>\n",
       "      <td>-73.988484</td>\n",
       "      <td>99889.0</td>\n",
       "      <td>104972.0</td>\n",
       "      <td>355</td>\n",
       "      <td>857</td>\n",
       "      <td>41.42</td>\n",
       "      <td>78</td>\n",
       "    </tr>\n",
       "    <tr>\n",
       "      <th>3</th>\n",
       "      <td>10004</td>\n",
       "      <td>40.700732</td>\n",
       "      <td>-74.013475</td>\n",
       "      <td>5515.0</td>\n",
       "      <td>128161.0</td>\n",
       "      <td>26</td>\n",
       "      <td>66</td>\n",
       "      <td>39.39</td>\n",
       "      <td>24</td>\n",
       "    </tr>\n",
       "    <tr>\n",
       "      <th>4</th>\n",
       "      <td>10005</td>\n",
       "      <td>40.705636</td>\n",
       "      <td>-74.008900</td>\n",
       "      <td>120158.0</td>\n",
       "      <td>135514.0</td>\n",
       "      <td>44</td>\n",
       "      <td>140</td>\n",
       "      <td>31.43</td>\n",
       "      <td>100</td>\n",
       "    </tr>\n",
       "  </tbody>\n",
       "</table>\n",
       "</div>"
      ],
      "text/plain": [
       "   Zip Code   Latitude  Longitude  Population Density  Median Income  \\\n",
       "0     10001  40.729825 -73.960752             38085.0        88701.0   \n",
       "1     10002  40.722313 -73.987709             90078.0        37071.0   \n",
       "2     10003  40.731609 -73.988484             99889.0       104972.0   \n",
       "3     10004  40.700732 -74.013475              5515.0       128161.0   \n",
       "4     10005  40.705636 -74.008900            120158.0       135514.0   \n",
       "\n",
       "   Positive Tests  Total Tests  Percentage of Total  Nearby Venues  \n",
       "0             266          600                44.33             64  \n",
       "1             729         1419                51.37             77  \n",
       "2             355          857                41.42             78  \n",
       "3              26           66                39.39             24  \n",
       "4              44          140                31.43            100  "
      ]
     },
     "execution_count": 31,
     "metadata": {},
     "output_type": "execute_result"
    }
   ],
   "source": [
    "df_fin = pd.read_csv('NYC_compiled_data_final.csv')\n",
    "df_fin.head()"
   ]
  },
  {
   "cell_type": "markdown",
   "metadata": {},
   "source": [
    "#### Defines function which uses Foursquare API to collect data on each zip code's venue "
   ]
  },
  {
   "cell_type": "code",
   "execution_count": 32,
   "metadata": {},
   "outputs": [],
   "source": [
    "radius=500\n",
    "LIMIT=300\n",
    "\n",
    "\n",
    "def getNearbyVenues(names, latitudes, longitudes):\n",
    "    \n",
    "    venues_list=[]\n",
    "    for name, lat, lng in zip(names, latitudes, longitudes):\n",
    "            \n",
    "        # create the API request URL\n",
    "        url = 'https://api.foursquare.com/v2/venues/explore?&client_id={}&client_secret={}&v={}&ll={},{}&radius={}&limit={}'.format(\n",
    "            CLIENT_ID, \n",
    "            CLIENT_SECRET, \n",
    "            VERSION, \n",
    "            lat, \n",
    "            lng, \n",
    "            radius, \n",
    "            LIMIT)\n",
    "            \n",
    "        # make the GET request\n",
    "        results = requests.get(url).json()[\"response\"]['groups'][0]['items']\n",
    "        \n",
    "        # return only relevant information for each nearby venue\n",
    "        venues_list.append([(\n",
    "            name, \n",
    "            lat, \n",
    "            lng, \n",
    "            v['venue']['name'], \n",
    "            v['venue']['categories'][0]['name'],\n",
    "            v['venue']['location']['lat'], \n",
    "            v['venue']['location']['lng']) for v in results])\n",
    "\n",
    "    nearby_venues = pd.DataFrame([item for venue_list in venues_list for item in venue_list])\n",
    "    nearby_venues.columns = ['Zip Code', \n",
    "                  'Latitude', \n",
    "                  'Longitude', \n",
    "                  'Venue', \n",
    "                  'Venue Category', \n",
    "                  'Venue Latitude', \n",
    "                  'Venue Longitude']\n",
    "    \n",
    "    return(nearby_venues)"
   ]
  },
  {
   "cell_type": "markdown",
   "metadata": {},
   "source": [
    "#### This information is stored in the \"venues\" DataFrame"
   ]
  },
  {
   "cell_type": "code",
   "execution_count": 33,
   "metadata": {
    "scrolled": true
   },
   "outputs": [],
   "source": [
    "venues = getNearbyVenues(names=df_fin['Zip Code'],\n",
    "                                   latitudes=df_fin['Latitude'],\n",
    "                                   longitudes=df_fin['Longitude']\n",
    "                                  )"
   ]
  },
  {
   "cell_type": "code",
   "execution_count": 34,
   "metadata": {},
   "outputs": [
    {
     "data": {
      "text/html": [
       "<div>\n",
       "<style scoped>\n",
       "    .dataframe tbody tr th:only-of-type {\n",
       "        vertical-align: middle;\n",
       "    }\n",
       "\n",
       "    .dataframe tbody tr th {\n",
       "        vertical-align: top;\n",
       "    }\n",
       "\n",
       "    .dataframe thead th {\n",
       "        text-align: right;\n",
       "    }\n",
       "</style>\n",
       "<table border=\"1\" class=\"dataframe\">\n",
       "  <thead>\n",
       "    <tr style=\"text-align: right;\">\n",
       "      <th></th>\n",
       "      <th>Zip Code</th>\n",
       "      <th>Latitude</th>\n",
       "      <th>Longitude</th>\n",
       "      <th>Venue</th>\n",
       "      <th>Venue Category</th>\n",
       "      <th>Venue Latitude</th>\n",
       "      <th>Venue Longitude</th>\n",
       "    </tr>\n",
       "  </thead>\n",
       "  <tbody>\n",
       "    <tr>\n",
       "      <th>0</th>\n",
       "      <td>10001</td>\n",
       "      <td>40.729825</td>\n",
       "      <td>-73.960752</td>\n",
       "      <td>WNYC Transmitter Park</td>\n",
       "      <td>Park</td>\n",
       "      <td>40.729958</td>\n",
       "      <td>-73.960733</td>\n",
       "    </tr>\n",
       "    <tr>\n",
       "      <th>1</th>\n",
       "      <td>10001</td>\n",
       "      <td>40.729825</td>\n",
       "      <td>-73.960752</td>\n",
       "      <td>Paulie Gee’s</td>\n",
       "      <td>Pizza Place</td>\n",
       "      <td>40.729801</td>\n",
       "      <td>-73.958520</td>\n",
       "    </tr>\n",
       "    <tr>\n",
       "      <th>2</th>\n",
       "      <td>10001</td>\n",
       "      <td>40.729825</td>\n",
       "      <td>-73.960752</td>\n",
       "      <td>Bellocq</td>\n",
       "      <td>Tea Room</td>\n",
       "      <td>40.730372</td>\n",
       "      <td>-73.959213</td>\n",
       "    </tr>\n",
       "    <tr>\n",
       "      <th>3</th>\n",
       "      <td>10001</td>\n",
       "      <td>40.729825</td>\n",
       "      <td>-73.960752</td>\n",
       "      <td>Ovenly</td>\n",
       "      <td>Bakery</td>\n",
       "      <td>40.729708</td>\n",
       "      <td>-73.959544</td>\n",
       "    </tr>\n",
       "    <tr>\n",
       "      <th>4</th>\n",
       "      <td>10001</td>\n",
       "      <td>40.729825</td>\n",
       "      <td>-73.960752</td>\n",
       "      <td>New Love City</td>\n",
       "      <td>Yoga Studio</td>\n",
       "      <td>40.729760</td>\n",
       "      <td>-73.958247</td>\n",
       "    </tr>\n",
       "  </tbody>\n",
       "</table>\n",
       "</div>"
      ],
      "text/plain": [
       "   Zip Code   Latitude  Longitude                  Venue Venue Category  \\\n",
       "0     10001  40.729825 -73.960752  WNYC Transmitter Park           Park   \n",
       "1     10001  40.729825 -73.960752           Paulie Gee’s    Pizza Place   \n",
       "2     10001  40.729825 -73.960752                Bellocq       Tea Room   \n",
       "3     10001  40.729825 -73.960752                 Ovenly         Bakery   \n",
       "4     10001  40.729825 -73.960752          New Love City    Yoga Studio   \n",
       "\n",
       "   Venue Latitude  Venue Longitude  \n",
       "0       40.729958       -73.960733  \n",
       "1       40.729801       -73.958520  \n",
       "2       40.730372       -73.959213  \n",
       "3       40.729708       -73.959544  \n",
       "4       40.729760       -73.958247  "
      ]
     },
     "execution_count": 34,
     "metadata": {},
     "output_type": "execute_result"
    }
   ],
   "source": [
    "venues.head()"
   ]
  },
  {
   "cell_type": "markdown",
   "metadata": {},
   "source": [
    "## Data Analysis\n",
    "\n",
    "#### Imports needed packages"
   ]
  },
  {
   "cell_type": "code",
   "execution_count": 35,
   "metadata": {},
   "outputs": [],
   "source": [
    "from sklearn.linear_model import LinearRegression\n",
    "import seaborn as sns \n",
    "from sklearn.model_selection import train_test_split \n",
    "from scipy.stats import pearsonr\n",
    "from sklearn.metrics import r2_score\n",
    "from sklearn.metrics import mean_squared_error\n",
    "from sklearn import preprocessing\n",
    "from sklearn.metrics import silhouette_samples, silhouette_score\n",
    "from sklearn.cluster import KMeans"
   ]
  },
  {
   "cell_type": "markdown",
   "metadata": {},
   "source": [
    "### Exploratory Data Analysis"
   ]
  },
  {
   "cell_type": "markdown",
   "metadata": {},
   "source": [
    "#### Plots historgrams for Population Density, Median Income, Positive Covid19 tests, and number of nearby venues\n",
    "\n",
    "Visualizes the variation of the data in each of these parameters"
   ]
  },
  {
   "cell_type": "code",
   "execution_count": 36,
   "metadata": {},
   "outputs": [
    {
     "data": {
      "image/png": "[encoded data removed]",
      "text/plain": [
       "<Figure size 432x288 with 4 Axes>"
      ]
     },
     "metadata": {
      "needs_background": "light"
     },
     "output_type": "display_data"
    }
   ],
   "source": [
    "import matplotlib.pyplot as plt\n",
    "%matplotlib inline\n",
    "\n",
    "#plots histograms\n",
    "histplots = df_fin[['Population Density','Median Income','Positive Tests','Nearby Venues']] \n",
    "histplots.hist()\n",
    "plt.show()"
   ]
  },
  {
   "cell_type": "markdown",
   "metadata": {},
   "source": [
    "#### Extracts columns to be used as features or independent variables"
   ]
  },
  {
   "cell_type": "code",
   "execution_count": 37,
   "metadata": {},
   "outputs": [
    {
     "data": {
      "text/html": [
       "<div>\n",
       "<style scoped>\n",
       "    .dataframe tbody tr th:only-of-type {\n",
       "        vertical-align: middle;\n",
       "    }\n",
       "\n",
       "    .dataframe tbody tr th {\n",
       "        vertical-align: top;\n",
       "    }\n",
       "\n",
       "    .dataframe thead th {\n",
       "        text-align: right;\n",
       "    }\n",
       "</style>\n",
       "<table border=\"1\" class=\"dataframe\">\n",
       "  <thead>\n",
       "    <tr style=\"text-align: right;\">\n",
       "      <th></th>\n",
       "      <th>Population Density</th>\n",
       "      <th>Median Income</th>\n",
       "      <th>Nearby Venues</th>\n",
       "    </tr>\n",
       "  </thead>\n",
       "  <tbody>\n",
       "    <tr>\n",
       "      <th>0</th>\n",
       "      <td>38085.0</td>\n",
       "      <td>88701.0</td>\n",
       "      <td>64</td>\n",
       "    </tr>\n",
       "    <tr>\n",
       "      <th>1</th>\n",
       "      <td>90078.0</td>\n",
       "      <td>37071.0</td>\n",
       "      <td>77</td>\n",
       "    </tr>\n",
       "    <tr>\n",
       "      <th>2</th>\n",
       "      <td>99889.0</td>\n",
       "      <td>104972.0</td>\n",
       "      <td>78</td>\n",
       "    </tr>\n",
       "    <tr>\n",
       "      <th>3</th>\n",
       "      <td>5515.0</td>\n",
       "      <td>128161.0</td>\n",
       "      <td>24</td>\n",
       "    </tr>\n",
       "    <tr>\n",
       "      <th>4</th>\n",
       "      <td>120158.0</td>\n",
       "      <td>135514.0</td>\n",
       "      <td>100</td>\n",
       "    </tr>\n",
       "  </tbody>\n",
       "</table>\n",
       "</div>"
      ],
      "text/plain": [
       "   Population Density  Median Income  Nearby Venues\n",
       "0             38085.0        88701.0             64\n",
       "1             90078.0        37071.0             77\n",
       "2             99889.0       104972.0             78\n",
       "3              5515.0       128161.0             24\n",
       "4            120158.0       135514.0            100"
      ]
     },
     "execution_count": 37,
     "metadata": {},
     "output_type": "execute_result"
    }
   ],
   "source": [
    "df_features = df_fin[['Population Density','Median Income','Nearby Venues']]\n",
    "df_features.head()"
   ]
  },
  {
   "cell_type": "markdown",
   "metadata": {},
   "source": [
    "#### Extracts the number of positive tests column as the target or dependent variable"
   ]
  },
  {
   "cell_type": "code",
   "execution_count": 38,
   "metadata": {},
   "outputs": [
    {
     "data": {
      "text/html": [
       "<div>\n",
       "<style scoped>\n",
       "    .dataframe tbody tr th:only-of-type {\n",
       "        vertical-align: middle;\n",
       "    }\n",
       "\n",
       "    .dataframe tbody tr th {\n",
       "        vertical-align: top;\n",
       "    }\n",
       "\n",
       "    .dataframe thead th {\n",
       "        text-align: right;\n",
       "    }\n",
       "</style>\n",
       "<table border=\"1\" class=\"dataframe\">\n",
       "  <thead>\n",
       "    <tr style=\"text-align: right;\">\n",
       "      <th></th>\n",
       "      <th>Positive Tests</th>\n",
       "    </tr>\n",
       "  </thead>\n",
       "  <tbody>\n",
       "    <tr>\n",
       "      <th>0</th>\n",
       "      <td>266</td>\n",
       "    </tr>\n",
       "    <tr>\n",
       "      <th>1</th>\n",
       "      <td>729</td>\n",
       "    </tr>\n",
       "    <tr>\n",
       "      <th>2</th>\n",
       "      <td>355</td>\n",
       "    </tr>\n",
       "    <tr>\n",
       "      <th>3</th>\n",
       "      <td>26</td>\n",
       "    </tr>\n",
       "    <tr>\n",
       "      <th>4</th>\n",
       "      <td>44</td>\n",
       "    </tr>\n",
       "  </tbody>\n",
       "</table>\n",
       "</div>"
      ],
      "text/plain": [
       "   Positive Tests\n",
       "0             266\n",
       "1             729\n",
       "2             355\n",
       "3              26\n",
       "4              44"
      ]
     },
     "execution_count": 38,
     "metadata": {},
     "output_type": "execute_result"
    }
   ],
   "source": [
    "df_target = df_fin[['Positive Tests']]\n",
    "df_target.head()"
   ]
  },
  {
   "cell_type": "markdown",
   "metadata": {},
   "source": [
    "### Determines the correlation coefficient, p-value, R^2, and Mean-squared error (MSE) of each feature in respect to the target, and plots their relationship"
   ]
  },
  {
   "cell_type": "markdown",
   "metadata": {},
   "source": [
    "#### Population Density"
   ]
  },
  {
   "cell_type": "code",
   "execution_count": 39,
   "metadata": {},
   "outputs": [
    {
     "name": "stdout",
     "output_type": "stream",
     "text": [
      "Correlation coefficient: -0.08645616539597073 and p_value: 0.34168719024233485\n"
     ]
    },
    {
     "data": {
      "text/plain": [
       "[Text(0, 0.5, 'Number of Positive Tests'),\n",
       " Text(0.5, 0, 'Population Density (people per sq mi)')]"
      ]
     },
     "execution_count": 39,
     "metadata": {},
     "output_type": "execute_result"
    },
    {
     "data": {
      "image/png": "[encoded data removed]",
      "text/plain": [
       "<Figure size 432x288 with 1 Axes>"
      ]
     },
     "metadata": {
      "needs_background": "light"
     },
     "output_type": "display_data"
    }
   ],
   "source": [
    "# correlation coefficient and p-value\n",
    "coef, p_value = pearsonr(df_features['Population Density'].values, df_target.values.flatten())\n",
    "print('Correlation coefficient: {} and p_value: {}' .format(coef,p_value))\n",
    "\n",
    "# regression plot \n",
    "ax = sns.regplot(x=\"Population Density\", y=\"Positive Tests\", data=df_fin)\n",
    "ax.set(xlabel='Population Density (people per sq mi)', ylabel='Number of Positive Tests')"
   ]
  },
  {
   "cell_type": "code",
   "execution_count": 40,
   "metadata": {},
   "outputs": [
    {
     "data": {
      "text/plain": [
       "LinearRegression(copy_X=True, fit_intercept=True, n_jobs=None, normalize=False)"
      ]
     },
     "execution_count": 40,
     "metadata": {},
     "output_type": "execute_result"
    }
   ],
   "source": [
    "# Simple Linear Regression \n",
    "lr = LinearRegression()\n",
    "lr.fit(df_features[['Population Density']],df_target[['Positive Tests']])"
   ]
  },
  {
   "cell_type": "code",
   "execution_count": 41,
   "metadata": {},
   "outputs": [
    {
     "name": "stdout",
     "output_type": "stream",
     "text": [
      "The R-square is: 0.0074746685349754705\n",
      "The mean square error of price and predicted value is:  279972.4324678927\n"
     ]
    }
   ],
   "source": [
    "# Calculates Yhat as the theoreotical value of Positive Tests based on Population Density \n",
    "Yhat = lr.predict(df_features[['Population Density']])\n",
    "\n",
    "# Calculates MSE\n",
    "mse = mean_squared_error(df_target[['Positive Tests']], Yhat)\n",
    "print('The R-square is:', lr.score(df_features[['Population Density']],df_target[['Positive Tests']]))\n",
    "print('The mean square error of price and predicted value is: ', mse)"
   ]
  },
  {
   "cell_type": "markdown",
   "metadata": {},
   "source": [
    "#### Median Income"
   ]
  },
  {
   "cell_type": "code",
   "execution_count": 42,
   "metadata": {
    "scrolled": true
   },
   "outputs": [
    {
     "name": "stdout",
     "output_type": "stream",
     "text": [
      "Correlation coefficient: -0.5424365434320946 and p_value: 9.142211008160841e-11\n"
     ]
    },
    {
     "data": {
      "text/plain": [
       "[Text(0, 0.5, 'Number of Positive Tests'),\n",
       " Text(0.5, 0, 'Median Household Income (USD)')]"
      ]
     },
     "execution_count": 42,
     "metadata": {},
     "output_type": "execute_result"
    },
    {
     "data": {
      "image/png": "[encoded data removed]",
      "text/plain": [
       "<Figure size 432x288 with 1 Axes>"
      ]
     },
     "metadata": {
      "needs_background": "light"
     },
     "output_type": "display_data"
    }
   ],
   "source": [
    "# correlation coefficient and p-value\n",
    "coef, p_value = pearsonr(df_features['Median Income'].values, df_target.values.flatten())\n",
    "print('Correlation coefficient: {} and p_value: {}' .format(coef,p_value))\n",
    "\n",
    "# regression plot \n",
    "ax = sns.regplot(x=\"Median Income\", y=\"Positive Tests\", data=df_fin)\n",
    "ax.set(xlabel='Median Household Income (USD)', ylabel='Number of Positive Tests')"
   ]
  },
  {
   "cell_type": "code",
   "execution_count": 43,
   "metadata": {},
   "outputs": [
    {
     "data": {
      "text/plain": [
       "LinearRegression(copy_X=True, fit_intercept=True, n_jobs=None, normalize=False)"
      ]
     },
     "execution_count": 43,
     "metadata": {},
     "output_type": "execute_result"
    }
   ],
   "source": [
    "# Simple Linear Regression\n",
    "lr.fit(df_features[['Median Income']],df_target[['Positive Tests']])"
   ]
  },
  {
   "cell_type": "code",
   "execution_count": 44,
   "metadata": {},
   "outputs": [
    {
     "name": "stdout",
     "output_type": "stream",
     "text": [
      "The R-square is: 0.2942374036505587\n",
      "The mean square error of price and predicted value is:  199082.1438815555\n"
     ]
    }
   ],
   "source": [
    "# Calculates Yhat as the theoreotical value of Positive Tests based on Median Income \n",
    "Yhat = lr.predict(df_features[['Median Income']])\n",
    "\n",
    "# Calculates MSE\n",
    "mse = mean_squared_error(df_target[['Positive Tests']], Yhat)\n",
    "print('The R-square is:', lr.score(df_features[['Median Income']],df_target[['Positive Tests']]))\n",
    "print('The mean square error of price and predicted value is: ', mse)"
   ]
  },
  {
   "cell_type": "markdown",
   "metadata": {},
   "source": [
    "#### Number of nearby venues"
   ]
  },
  {
   "cell_type": "code",
   "execution_count": 45,
   "metadata": {},
   "outputs": [
    {
     "name": "stdout",
     "output_type": "stream",
     "text": [
      "Correlation coefficient: -0.4693375013133118 and p_value: 4.353257636464832e-08\n"
     ]
    },
    {
     "data": {
      "text/plain": [
       "[Text(0, 0.5, 'Number of Positive Tests'),\n",
       " Text(0.5, 0, 'Number of Nearby Venues')]"
      ]
     },
     "execution_count": 45,
     "metadata": {},
     "output_type": "execute_result"
    },
    {
     "data": {
      "image/png": "[encoded data removed]",
      "text/plain": [
       "<Figure size 432x288 with 1 Axes>"
      ]
     },
     "metadata": {
      "needs_background": "light"
     },
     "output_type": "display_data"
    }
   ],
   "source": [
    "# correlation coefficient and p-value\n",
    "coef, p_value = pearsonr(df_features['Nearby Venues'].values, df_target.values.flatten())\n",
    "print('Correlation coefficient: {} and p_value: {}' .format(coef,p_value))\n",
    "\n",
    "# Regression Plot \n",
    "ax = sns.regplot(x=\"Nearby Venues\", y=\"Positive Tests\", data=df_fin)\n",
    "ax.set(xlabel='Number of Nearby Venues', ylabel='Number of Positive Tests')"
   ]
  },
  {
   "cell_type": "code",
   "execution_count": 46,
   "metadata": {},
   "outputs": [
    {
     "data": {
      "text/plain": [
       "LinearRegression(copy_X=True, fit_intercept=True, n_jobs=None, normalize=False)"
      ]
     },
     "execution_count": 46,
     "metadata": {},
     "output_type": "execute_result"
    }
   ],
   "source": [
    "# Simple Linear Regression \n",
    "lr.fit(df_features[['Nearby Venues']],df_target[['Positive Tests']])"
   ]
  },
  {
   "cell_type": "code",
   "execution_count": 47,
   "metadata": {},
   "outputs": [
    {
     "name": "stdout",
     "output_type": "stream",
     "text": [
      "The R-square is: 0.2202776901390231\n",
      "The mean square error of price and predicted value is:  219944.76596283665\n"
     ]
    }
   ],
   "source": [
    "# Calculates Yhat as the theoreotical value of Positive Tests based on number of nearby venues\n",
    "Yhat = lr.predict(df_features[['Nearby Venues']])\n",
    "\n",
    "# Calculates MSE\n",
    "mse = mean_squared_error(df_target[['Positive Tests']], Yhat)\n",
    "print('The R-square is:', lr.score(df_features[['Nearby Venues']],df_target[['Positive Tests']]))\n",
    "print('The mean square error of price and predicted value is: ', mse)"
   ]
  },
  {
   "cell_type": "markdown",
   "metadata": {},
   "source": [
    "### Performs Multiple Linear Regression to test if Positive Tests correlate to a combination of the features \n",
    "#### Population Density does not seem to correlate to Positive Covid19 Tests, so it will be dropped from the feature list "
   ]
  },
  {
   "cell_type": "code",
   "execution_count": 48,
   "metadata": {},
   "outputs": [
    {
     "name": "stderr",
     "output_type": "stream",
     "text": [
      "C:\\Users\\sonle\\Anaconda3\\lib\\site-packages\\pandas\\core\\frame.py:3940: SettingWithCopyWarning: \n",
      "A value is trying to be set on a copy of a slice from a DataFrame\n",
      "\n",
      "See the caveats in the documentation: http://pandas.pydata.org/pandas-docs/stable/indexing.html#indexing-view-versus-copy\n",
      "  errors=errors)\n"
     ]
    },
    {
     "data": {
      "text/html": [
       "<div>\n",
       "<style scoped>\n",
       "    .dataframe tbody tr th:only-of-type {\n",
       "        vertical-align: middle;\n",
       "    }\n",
       "\n",
       "    .dataframe tbody tr th {\n",
       "        vertical-align: top;\n",
       "    }\n",
       "\n",
       "    .dataframe thead th {\n",
       "        text-align: right;\n",
       "    }\n",
       "</style>\n",
       "<table border=\"1\" class=\"dataframe\">\n",
       "  <thead>\n",
       "    <tr style=\"text-align: right;\">\n",
       "      <th></th>\n",
       "      <th>Median Income</th>\n",
       "      <th>Nearby Venues</th>\n",
       "    </tr>\n",
       "  </thead>\n",
       "  <tbody>\n",
       "    <tr>\n",
       "      <th>0</th>\n",
       "      <td>88701.0</td>\n",
       "      <td>64</td>\n",
       "    </tr>\n",
       "    <tr>\n",
       "      <th>1</th>\n",
       "      <td>37071.0</td>\n",
       "      <td>77</td>\n",
       "    </tr>\n",
       "    <tr>\n",
       "      <th>2</th>\n",
       "      <td>104972.0</td>\n",
       "      <td>78</td>\n",
       "    </tr>\n",
       "    <tr>\n",
       "      <th>3</th>\n",
       "      <td>128161.0</td>\n",
       "      <td>24</td>\n",
       "    </tr>\n",
       "    <tr>\n",
       "      <th>4</th>\n",
       "      <td>135514.0</td>\n",
       "      <td>100</td>\n",
       "    </tr>\n",
       "  </tbody>\n",
       "</table>\n",
       "</div>"
      ],
      "text/plain": [
       "   Median Income  Nearby Venues\n",
       "0        88701.0             64\n",
       "1        37071.0             77\n",
       "2       104972.0             78\n",
       "3       128161.0             24\n",
       "4       135514.0            100"
      ]
     },
     "execution_count": 48,
     "metadata": {},
     "output_type": "execute_result"
    }
   ],
   "source": [
    "df_features.drop('Population Density', axis = 1, inplace = True)\n",
    "df_features.head()"
   ]
  },
  {
   "cell_type": "markdown",
   "metadata": {},
   "source": [
    "#### Preprocessing "
   ]
  },
  {
   "cell_type": "code",
   "execution_count": 49,
   "metadata": {},
   "outputs": [
    {
     "data": {
      "text/plain": [
       "array([[ 0.48046334,  0.64578559],\n",
       "       [-0.82055756,  1.07532435],\n",
       "       [ 0.89047517,  1.10836579],\n",
       "       [ 1.47481322, -0.67587211],\n",
       "       [ 1.66010097,  1.83527753],\n",
       "       [ 1.53539145,  1.30661445],\n",
       "       [ 4.41159762,  1.5048631 ],\n",
       "       [-0.15936276,  0.54666127],\n",
       "       [ 1.13588757,  1.76919464],\n",
       "       [ 1.24066474,  0.31537117]])"
      ]
     },
     "execution_count": 49,
     "metadata": {},
     "output_type": "execute_result"
    }
   ],
   "source": [
    "scaler = preprocessing.StandardScaler()\n",
    "scaler.fit(df_features)\n",
    "X = scaler.transform(df_features)\n",
    "X[0:10]"
   ]
  },
  {
   "cell_type": "markdown",
   "metadata": {},
   "source": [
    "#### Builds multiple linear regression model"
   ]
  },
  {
   "cell_type": "code",
   "execution_count": 50,
   "metadata": {},
   "outputs": [
    {
     "data": {
      "text/plain": [
       "LinearRegression(copy_X=True, fit_intercept=True, n_jobs=None, normalize=False)"
      ]
     },
     "execution_count": 50,
     "metadata": {},
     "output_type": "execute_result"
    }
   ],
   "source": [
    "lr.fit(X, df_target[['Positive Tests']])"
   ]
  },
  {
   "cell_type": "markdown",
   "metadata": {},
   "source": [
    "#### Evaluates the model"
   ]
  },
  {
   "cell_type": "code",
   "execution_count": 51,
   "metadata": {},
   "outputs": [
    {
     "name": "stdout",
     "output_type": "stream",
     "text": [
      "The correlation coefficients are:  -224.05639921794537 and  -159.0705432167647\n",
      "The R-square is: 0.3694019794730984\n",
      "The mean square error of price and predicted value is:  177879.6531628636\n"
     ]
    }
   ],
   "source": [
    "# Calculates Yhat as the theoreotical value of Positive Tests based on Median Income and the number of nearby venues\n",
    "Yhat = lr.predict(X)\n",
    "\n",
    "#Calculates MSE \n",
    "mse = mean_squared_error(df_target[['Positive Tests']], Yhat)\n",
    "print('The correlation coefficients are: ', lr.coef_[0][0],'and ', lr.coef_[0][1])\n",
    "print('The R-square is:', lr.score(X,df_target[['Positive Tests']]))\n",
    "print('The mean square error of price and predicted value is: ', mse)"
   ]
  },
  {
   "cell_type": "markdown",
   "metadata": {},
   "source": [
    "#### Visualizes the accuracy of the model"
   ]
  },
  {
   "cell_type": "code",
   "execution_count": 52,
   "metadata": {},
   "outputs": [
    {
     "data": {
      "image/png": "[encoded data removed]",
      "text/plain": [
       "<Figure size 864x720 with 1 Axes>"
      ]
     },
     "metadata": {
      "needs_background": "light"
     },
     "output_type": "display_data"
    }
   ],
   "source": [
    "plt.figure(figsize=(12,10))\n",
    "\n",
    "\n",
    "ax1 = sns.distplot(df_target['Positive Tests'], hist=False, color=\"r\", label=\"Actual Value\")\n",
    "sns.distplot(Yhat, hist=False, color=\"b\", label=\"Fitted Values\" , ax=ax1)\n",
    "\n",
    "\n",
    "plt.title('Actual vs Fitted Values for Positive Tests for Covid19')\n",
    "plt.xlabel('Positive Tests')\n",
    "plt.ylabel('Median Income and Number of Nearby Venues')\n",
    "\n",
    "plt.show()\n",
    "plt.close()"
   ]
  },
  {
   "cell_type": "markdown",
   "metadata": {},
   "source": [
    "### Explores the actual venues and the relationship between venue category and Positive Covid19 Tests using KMeans Clustering"
   ]
  },
  {
   "cell_type": "markdown",
   "metadata": {},
   "source": [
    "#### Performs one hot encoding to analyze each zip code's venues"
   ]
  },
  {
   "cell_type": "code",
   "execution_count": 53,
   "metadata": {},
   "outputs": [
    {
     "data": {
      "text/html": [
       "<div>\n",
       "<style scoped>\n",
       "    .dataframe tbody tr th:only-of-type {\n",
       "        vertical-align: middle;\n",
       "    }\n",
       "\n",
       "    .dataframe tbody tr th {\n",
       "        vertical-align: top;\n",
       "    }\n",
       "\n",
       "    .dataframe thead th {\n",
       "        text-align: right;\n",
       "    }\n",
       "</style>\n",
       "<table border=\"1\" class=\"dataframe\">\n",
       "  <thead>\n",
       "    <tr style=\"text-align: right;\">\n",
       "      <th></th>\n",
       "      <th>Zip Code</th>\n",
       "      <th>Accessories Store</th>\n",
       "      <th>Acupuncturist</th>\n",
       "      <th>Adult Boutique</th>\n",
       "      <th>Afghan Restaurant</th>\n",
       "      <th>African Restaurant</th>\n",
       "      <th>Airport Terminal</th>\n",
       "      <th>American Restaurant</th>\n",
       "      <th>Antique Shop</th>\n",
       "      <th>Aquarium</th>\n",
       "      <th>...</th>\n",
       "      <th>Volleyball Court</th>\n",
       "      <th>Warehouse Store</th>\n",
       "      <th>Waterfront</th>\n",
       "      <th>Whisky Bar</th>\n",
       "      <th>Wine Bar</th>\n",
       "      <th>Wine Shop</th>\n",
       "      <th>Wings Joint</th>\n",
       "      <th>Women's Store</th>\n",
       "      <th>Yoga Studio</th>\n",
       "      <th>Zoo</th>\n",
       "    </tr>\n",
       "  </thead>\n",
       "  <tbody>\n",
       "    <tr>\n",
       "      <th>0</th>\n",
       "      <td>10001</td>\n",
       "      <td>0</td>\n",
       "      <td>0</td>\n",
       "      <td>0</td>\n",
       "      <td>0</td>\n",
       "      <td>0</td>\n",
       "      <td>0</td>\n",
       "      <td>0</td>\n",
       "      <td>0</td>\n",
       "      <td>0</td>\n",
       "      <td>...</td>\n",
       "      <td>0</td>\n",
       "      <td>0</td>\n",
       "      <td>0</td>\n",
       "      <td>0</td>\n",
       "      <td>0</td>\n",
       "      <td>0</td>\n",
       "      <td>0</td>\n",
       "      <td>0</td>\n",
       "      <td>0</td>\n",
       "      <td>0</td>\n",
       "    </tr>\n",
       "    <tr>\n",
       "      <th>1</th>\n",
       "      <td>10001</td>\n",
       "      <td>0</td>\n",
       "      <td>0</td>\n",
       "      <td>0</td>\n",
       "      <td>0</td>\n",
       "      <td>0</td>\n",
       "      <td>0</td>\n",
       "      <td>0</td>\n",
       "      <td>0</td>\n",
       "      <td>0</td>\n",
       "      <td>...</td>\n",
       "      <td>0</td>\n",
       "      <td>0</td>\n",
       "      <td>0</td>\n",
       "      <td>0</td>\n",
       "      <td>0</td>\n",
       "      <td>0</td>\n",
       "      <td>0</td>\n",
       "      <td>0</td>\n",
       "      <td>0</td>\n",
       "      <td>0</td>\n",
       "    </tr>\n",
       "    <tr>\n",
       "      <th>2</th>\n",
       "      <td>10001</td>\n",
       "      <td>0</td>\n",
       "      <td>0</td>\n",
       "      <td>0</td>\n",
       "      <td>0</td>\n",
       "      <td>0</td>\n",
       "      <td>0</td>\n",
       "      <td>0</td>\n",
       "      <td>0</td>\n",
       "      <td>0</td>\n",
       "      <td>...</td>\n",
       "      <td>0</td>\n",
       "      <td>0</td>\n",
       "      <td>0</td>\n",
       "      <td>0</td>\n",
       "      <td>0</td>\n",
       "      <td>0</td>\n",
       "      <td>0</td>\n",
       "      <td>0</td>\n",
       "      <td>0</td>\n",
       "      <td>0</td>\n",
       "    </tr>\n",
       "    <tr>\n",
       "      <th>3</th>\n",
       "      <td>10001</td>\n",
       "      <td>0</td>\n",
       "      <td>0</td>\n",
       "      <td>0</td>\n",
       "      <td>0</td>\n",
       "      <td>0</td>\n",
       "      <td>0</td>\n",
       "      <td>0</td>\n",
       "      <td>0</td>\n",
       "      <td>0</td>\n",
       "      <td>...</td>\n",
       "      <td>0</td>\n",
       "      <td>0</td>\n",
       "      <td>0</td>\n",
       "      <td>0</td>\n",
       "      <td>0</td>\n",
       "      <td>0</td>\n",
       "      <td>0</td>\n",
       "      <td>0</td>\n",
       "      <td>0</td>\n",
       "      <td>0</td>\n",
       "    </tr>\n",
       "    <tr>\n",
       "      <th>4</th>\n",
       "      <td>10001</td>\n",
       "      <td>0</td>\n",
       "      <td>0</td>\n",
       "      <td>0</td>\n",
       "      <td>0</td>\n",
       "      <td>0</td>\n",
       "      <td>0</td>\n",
       "      <td>0</td>\n",
       "      <td>0</td>\n",
       "      <td>0</td>\n",
       "      <td>...</td>\n",
       "      <td>0</td>\n",
       "      <td>0</td>\n",
       "      <td>0</td>\n",
       "      <td>0</td>\n",
       "      <td>0</td>\n",
       "      <td>0</td>\n",
       "      <td>0</td>\n",
       "      <td>0</td>\n",
       "      <td>1</td>\n",
       "      <td>0</td>\n",
       "    </tr>\n",
       "  </tbody>\n",
       "</table>\n",
       "<p>5 rows × 380 columns</p>\n",
       "</div>"
      ],
      "text/plain": [
       "   Zip Code  Accessories Store  Acupuncturist  Adult Boutique  \\\n",
       "0     10001                  0              0               0   \n",
       "1     10001                  0              0               0   \n",
       "2     10001                  0              0               0   \n",
       "3     10001                  0              0               0   \n",
       "4     10001                  0              0               0   \n",
       "\n",
       "   Afghan Restaurant  African Restaurant  Airport Terminal  \\\n",
       "0                  0                   0                 0   \n",
       "1                  0                   0                 0   \n",
       "2                  0                   0                 0   \n",
       "3                  0                   0                 0   \n",
       "4                  0                   0                 0   \n",
       "\n",
       "   American Restaurant  Antique Shop  Aquarium  ...  Volleyball Court  \\\n",
       "0                    0             0         0  ...                 0   \n",
       "1                    0             0         0  ...                 0   \n",
       "2                    0             0         0  ...                 0   \n",
       "3                    0             0         0  ...                 0   \n",
       "4                    0             0         0  ...                 0   \n",
       "\n",
       "   Warehouse Store  Waterfront  Whisky Bar  Wine Bar  Wine Shop  Wings Joint  \\\n",
       "0                0           0           0         0          0            0   \n",
       "1                0           0           0         0          0            0   \n",
       "2                0           0           0         0          0            0   \n",
       "3                0           0           0         0          0            0   \n",
       "4                0           0           0         0          0            0   \n",
       "\n",
       "   Women's Store  Yoga Studio  Zoo  \n",
       "0              0            0    0  \n",
       "1              0            0    0  \n",
       "2              0            0    0  \n",
       "3              0            0    0  \n",
       "4              0            1    0  \n",
       "\n",
       "[5 rows x 380 columns]"
      ]
     },
     "execution_count": 53,
     "metadata": {},
     "output_type": "execute_result"
    }
   ],
   "source": [
    "nyc_onehot = pd.get_dummies(venues[['Venue Category']], prefix=\"\", prefix_sep=\"\")\n",
    "\n",
    "nyc_onehot['Zip Code'] = venues['Zip Code'] \n",
    "\n",
    "\n",
    "fixed_columns = [nyc_onehot.columns[-1]] + nyc_onehot.columns[:-1].values.tolist()\n",
    "nyc_onehot = nyc_onehot[fixed_columns]\n",
    "\n",
    "nyc_onehot.head()"
   ]
  },
  {
   "cell_type": "markdown",
   "metadata": {},
   "source": [
    "#### Finds the mean of frequency of occurence of venues in each zip code"
   ]
  },
  {
   "cell_type": "code",
   "execution_count": 54,
   "metadata": {},
   "outputs": [
    {
     "data": {
      "text/html": [
       "<div>\n",
       "<style scoped>\n",
       "    .dataframe tbody tr th:only-of-type {\n",
       "        vertical-align: middle;\n",
       "    }\n",
       "\n",
       "    .dataframe tbody tr th {\n",
       "        vertical-align: top;\n",
       "    }\n",
       "\n",
       "    .dataframe thead th {\n",
       "        text-align: right;\n",
       "    }\n",
       "</style>\n",
       "<table border=\"1\" class=\"dataframe\">\n",
       "  <thead>\n",
       "    <tr style=\"text-align: right;\">\n",
       "      <th></th>\n",
       "      <th>Zip Code</th>\n",
       "      <th>Accessories Store</th>\n",
       "      <th>Acupuncturist</th>\n",
       "      <th>Adult Boutique</th>\n",
       "      <th>Afghan Restaurant</th>\n",
       "      <th>African Restaurant</th>\n",
       "      <th>Airport Terminal</th>\n",
       "      <th>American Restaurant</th>\n",
       "      <th>Antique Shop</th>\n",
       "      <th>Aquarium</th>\n",
       "      <th>...</th>\n",
       "      <th>Volleyball Court</th>\n",
       "      <th>Warehouse Store</th>\n",
       "      <th>Waterfront</th>\n",
       "      <th>Whisky Bar</th>\n",
       "      <th>Wine Bar</th>\n",
       "      <th>Wine Shop</th>\n",
       "      <th>Wings Joint</th>\n",
       "      <th>Women's Store</th>\n",
       "      <th>Yoga Studio</th>\n",
       "      <th>Zoo</th>\n",
       "    </tr>\n",
       "  </thead>\n",
       "  <tbody>\n",
       "    <tr>\n",
       "      <th>0</th>\n",
       "      <td>10001</td>\n",
       "      <td>0.0</td>\n",
       "      <td>0.0</td>\n",
       "      <td>0.0</td>\n",
       "      <td>0.0</td>\n",
       "      <td>0.0</td>\n",
       "      <td>0.0</td>\n",
       "      <td>0.015625</td>\n",
       "      <td>0.015625</td>\n",
       "      <td>0.0</td>\n",
       "      <td>...</td>\n",
       "      <td>0.0</td>\n",
       "      <td>0.0</td>\n",
       "      <td>0.0</td>\n",
       "      <td>0.015625</td>\n",
       "      <td>0.015625</td>\n",
       "      <td>0.015625</td>\n",
       "      <td>0.0</td>\n",
       "      <td>0.0</td>\n",
       "      <td>0.046875</td>\n",
       "      <td>0.0</td>\n",
       "    </tr>\n",
       "    <tr>\n",
       "      <th>1</th>\n",
       "      <td>10002</td>\n",
       "      <td>0.0</td>\n",
       "      <td>0.0</td>\n",
       "      <td>0.0</td>\n",
       "      <td>0.0</td>\n",
       "      <td>0.0</td>\n",
       "      <td>0.0</td>\n",
       "      <td>0.000000</td>\n",
       "      <td>0.000000</td>\n",
       "      <td>0.0</td>\n",
       "      <td>...</td>\n",
       "      <td>0.0</td>\n",
       "      <td>0.0</td>\n",
       "      <td>0.0</td>\n",
       "      <td>0.000000</td>\n",
       "      <td>0.025974</td>\n",
       "      <td>0.038961</td>\n",
       "      <td>0.0</td>\n",
       "      <td>0.0</td>\n",
       "      <td>0.012987</td>\n",
       "      <td>0.0</td>\n",
       "    </tr>\n",
       "    <tr>\n",
       "      <th>2</th>\n",
       "      <td>10003</td>\n",
       "      <td>0.0</td>\n",
       "      <td>0.0</td>\n",
       "      <td>0.0</td>\n",
       "      <td>0.0</td>\n",
       "      <td>0.0</td>\n",
       "      <td>0.0</td>\n",
       "      <td>0.025641</td>\n",
       "      <td>0.000000</td>\n",
       "      <td>0.0</td>\n",
       "      <td>...</td>\n",
       "      <td>0.0</td>\n",
       "      <td>0.0</td>\n",
       "      <td>0.0</td>\n",
       "      <td>0.000000</td>\n",
       "      <td>0.000000</td>\n",
       "      <td>0.025641</td>\n",
       "      <td>0.0</td>\n",
       "      <td>0.0</td>\n",
       "      <td>0.012821</td>\n",
       "      <td>0.0</td>\n",
       "    </tr>\n",
       "    <tr>\n",
       "      <th>3</th>\n",
       "      <td>10004</td>\n",
       "      <td>0.0</td>\n",
       "      <td>0.0</td>\n",
       "      <td>0.0</td>\n",
       "      <td>0.0</td>\n",
       "      <td>0.0</td>\n",
       "      <td>0.0</td>\n",
       "      <td>0.000000</td>\n",
       "      <td>0.000000</td>\n",
       "      <td>0.0</td>\n",
       "      <td>...</td>\n",
       "      <td>0.0</td>\n",
       "      <td>0.0</td>\n",
       "      <td>0.0</td>\n",
       "      <td>0.000000</td>\n",
       "      <td>0.000000</td>\n",
       "      <td>0.000000</td>\n",
       "      <td>0.0</td>\n",
       "      <td>0.0</td>\n",
       "      <td>0.000000</td>\n",
       "      <td>0.0</td>\n",
       "    </tr>\n",
       "    <tr>\n",
       "      <th>4</th>\n",
       "      <td>10005</td>\n",
       "      <td>0.0</td>\n",
       "      <td>0.0</td>\n",
       "      <td>0.0</td>\n",
       "      <td>0.0</td>\n",
       "      <td>0.0</td>\n",
       "      <td>0.0</td>\n",
       "      <td>0.040000</td>\n",
       "      <td>0.000000</td>\n",
       "      <td>0.0</td>\n",
       "      <td>...</td>\n",
       "      <td>0.0</td>\n",
       "      <td>0.0</td>\n",
       "      <td>0.0</td>\n",
       "      <td>0.000000</td>\n",
       "      <td>0.000000</td>\n",
       "      <td>0.000000</td>\n",
       "      <td>0.0</td>\n",
       "      <td>0.0</td>\n",
       "      <td>0.000000</td>\n",
       "      <td>0.0</td>\n",
       "    </tr>\n",
       "  </tbody>\n",
       "</table>\n",
       "<p>5 rows × 380 columns</p>\n",
       "</div>"
      ],
      "text/plain": [
       "   Zip Code  Accessories Store  Acupuncturist  Adult Boutique  \\\n",
       "0     10001                0.0            0.0             0.0   \n",
       "1     10002                0.0            0.0             0.0   \n",
       "2     10003                0.0            0.0             0.0   \n",
       "3     10004                0.0            0.0             0.0   \n",
       "4     10005                0.0            0.0             0.0   \n",
       "\n",
       "   Afghan Restaurant  African Restaurant  Airport Terminal  \\\n",
       "0                0.0                 0.0               0.0   \n",
       "1                0.0                 0.0               0.0   \n",
       "2                0.0                 0.0               0.0   \n",
       "3                0.0                 0.0               0.0   \n",
       "4                0.0                 0.0               0.0   \n",
       "\n",
       "   American Restaurant  Antique Shop  Aquarium  ...  Volleyball Court  \\\n",
       "0             0.015625      0.015625       0.0  ...               0.0   \n",
       "1             0.000000      0.000000       0.0  ...               0.0   \n",
       "2             0.025641      0.000000       0.0  ...               0.0   \n",
       "3             0.000000      0.000000       0.0  ...               0.0   \n",
       "4             0.040000      0.000000       0.0  ...               0.0   \n",
       "\n",
       "   Warehouse Store  Waterfront  Whisky Bar  Wine Bar  Wine Shop  Wings Joint  \\\n",
       "0              0.0         0.0    0.015625  0.015625   0.015625          0.0   \n",
       "1              0.0         0.0    0.000000  0.025974   0.038961          0.0   \n",
       "2              0.0         0.0    0.000000  0.000000   0.025641          0.0   \n",
       "3              0.0         0.0    0.000000  0.000000   0.000000          0.0   \n",
       "4              0.0         0.0    0.000000  0.000000   0.000000          0.0   \n",
       "\n",
       "   Women's Store  Yoga Studio  Zoo  \n",
       "0            0.0     0.046875  0.0  \n",
       "1            0.0     0.012987  0.0  \n",
       "2            0.0     0.012821  0.0  \n",
       "3            0.0     0.000000  0.0  \n",
       "4            0.0     0.000000  0.0  \n",
       "\n",
       "[5 rows x 380 columns]"
      ]
     },
     "execution_count": 54,
     "metadata": {},
     "output_type": "execute_result"
    }
   ],
   "source": [
    "nyc_gb = nyc_onehot.groupby('Zip Code').mean().reset_index()\n",
    "nyc_gb.head()"
   ]
  },
  {
   "cell_type": "markdown",
   "metadata": {},
   "source": [
    "#### Determines the most popular venues in each zip code "
   ]
  },
  {
   "cell_type": "code",
   "execution_count": 55,
   "metadata": {},
   "outputs": [
    {
     "data": {
      "text/html": [
       "<div>\n",
       "<style scoped>\n",
       "    .dataframe tbody tr th:only-of-type {\n",
       "        vertical-align: middle;\n",
       "    }\n",
       "\n",
       "    .dataframe tbody tr th {\n",
       "        vertical-align: top;\n",
       "    }\n",
       "\n",
       "    .dataframe thead th {\n",
       "        text-align: right;\n",
       "    }\n",
       "</style>\n",
       "<table border=\"1\" class=\"dataframe\">\n",
       "  <thead>\n",
       "    <tr style=\"text-align: right;\">\n",
       "      <th></th>\n",
       "      <th>Zip Code</th>\n",
       "      <th>1st Most Common Venue</th>\n",
       "      <th>2nd Most Common Venue</th>\n",
       "      <th>3rd Most Common Venue</th>\n",
       "      <th>4th Most Common Venue</th>\n",
       "      <th>5th Most Common Venue</th>\n",
       "      <th>6th Most Common Venue</th>\n",
       "      <th>7th Most Common Venue</th>\n",
       "      <th>8th Most Common Venue</th>\n",
       "      <th>9th Most Common Venue</th>\n",
       "      <th>10th Most Common Venue</th>\n",
       "    </tr>\n",
       "  </thead>\n",
       "  <tbody>\n",
       "    <tr>\n",
       "      <th>0</th>\n",
       "      <td>10001</td>\n",
       "      <td>Bar</td>\n",
       "      <td>Cocktail Bar</td>\n",
       "      <td>Yoga Studio</td>\n",
       "      <td>Boutique</td>\n",
       "      <td>Coffee Shop</td>\n",
       "      <td>Tea Room</td>\n",
       "      <td>Café</td>\n",
       "      <td>Scenic Lookout</td>\n",
       "      <td>Art Gallery</td>\n",
       "      <td>French Restaurant</td>\n",
       "    </tr>\n",
       "    <tr>\n",
       "      <th>1</th>\n",
       "      <td>10002</td>\n",
       "      <td>Italian Restaurant</td>\n",
       "      <td>Pizza Place</td>\n",
       "      <td>Sandwich Place</td>\n",
       "      <td>Coffee Shop</td>\n",
       "      <td>Wine Shop</td>\n",
       "      <td>Cocktail Bar</td>\n",
       "      <td>Grocery Store</td>\n",
       "      <td>Café</td>\n",
       "      <td>Asian Restaurant</td>\n",
       "      <td>Rock Club</td>\n",
       "    </tr>\n",
       "    <tr>\n",
       "      <th>2</th>\n",
       "      <td>10003</td>\n",
       "      <td>Grocery Store</td>\n",
       "      <td>Ice Cream Shop</td>\n",
       "      <td>Café</td>\n",
       "      <td>Pizza Place</td>\n",
       "      <td>Italian Restaurant</td>\n",
       "      <td>Coffee Shop</td>\n",
       "      <td>Bagel Shop</td>\n",
       "      <td>Chinese Restaurant</td>\n",
       "      <td>Juice Bar</td>\n",
       "      <td>Speakeasy</td>\n",
       "    </tr>\n",
       "    <tr>\n",
       "      <th>3</th>\n",
       "      <td>10004</td>\n",
       "      <td>Boat or Ferry</td>\n",
       "      <td>Cocktail Bar</td>\n",
       "      <td>Park</td>\n",
       "      <td>Mexican Restaurant</td>\n",
       "      <td>Heliport</td>\n",
       "      <td>Japanese Restaurant</td>\n",
       "      <td>History Museum</td>\n",
       "      <td>Museum</td>\n",
       "      <td>Snack Place</td>\n",
       "      <td>Pedestrian Plaza</td>\n",
       "    </tr>\n",
       "    <tr>\n",
       "      <th>4</th>\n",
       "      <td>10005</td>\n",
       "      <td>Coffee Shop</td>\n",
       "      <td>Gym / Fitness Center</td>\n",
       "      <td>American Restaurant</td>\n",
       "      <td>Cocktail Bar</td>\n",
       "      <td>Gym</td>\n",
       "      <td>Hotel</td>\n",
       "      <td>Falafel Restaurant</td>\n",
       "      <td>Mexican Restaurant</td>\n",
       "      <td>Park</td>\n",
       "      <td>Jewelry Store</td>\n",
       "    </tr>\n",
       "  </tbody>\n",
       "</table>\n",
       "</div>"
      ],
      "text/plain": [
       "   Zip Code 1st Most Common Venue 2nd Most Common Venue 3rd Most Common Venue  \\\n",
       "0     10001                   Bar          Cocktail Bar           Yoga Studio   \n",
       "1     10002    Italian Restaurant           Pizza Place        Sandwich Place   \n",
       "2     10003         Grocery Store        Ice Cream Shop                  Café   \n",
       "3     10004         Boat or Ferry          Cocktail Bar                  Park   \n",
       "4     10005           Coffee Shop  Gym / Fitness Center   American Restaurant   \n",
       "\n",
       "  4th Most Common Venue 5th Most Common Venue 6th Most Common Venue  \\\n",
       "0              Boutique           Coffee Shop              Tea Room   \n",
       "1           Coffee Shop             Wine Shop          Cocktail Bar   \n",
       "2           Pizza Place    Italian Restaurant           Coffee Shop   \n",
       "3    Mexican Restaurant              Heliport   Japanese Restaurant   \n",
       "4          Cocktail Bar                   Gym                 Hotel   \n",
       "\n",
       "  7th Most Common Venue 8th Most Common Venue 9th Most Common Venue  \\\n",
       "0                  Café        Scenic Lookout           Art Gallery   \n",
       "1         Grocery Store                  Café      Asian Restaurant   \n",
       "2            Bagel Shop    Chinese Restaurant             Juice Bar   \n",
       "3        History Museum                Museum           Snack Place   \n",
       "4    Falafel Restaurant    Mexican Restaurant                  Park   \n",
       "\n",
       "  10th Most Common Venue  \n",
       "0      French Restaurant  \n",
       "1              Rock Club  \n",
       "2              Speakeasy  \n",
       "3       Pedestrian Plaza  \n",
       "4          Jewelry Store  "
      ]
     },
     "execution_count": 55,
     "metadata": {},
     "output_type": "execute_result"
    }
   ],
   "source": [
    "# function that returns the most common value\n",
    "def return_most_common_venues(row, num_top_venues):\n",
    "    row_categories = row.iloc[1:]\n",
    "    row_categories_sorted = row_categories.sort_values(ascending=False)\n",
    "    \n",
    "    return row_categories_sorted.index.values[0:num_top_venues]\n",
    "\n",
    "# create columns according to number of top venues \n",
    "num_top_venues = 10\n",
    "indicators = ['st', 'nd', 'rd']\n",
    "\n",
    "columns = ['Zip Code']\n",
    "for ind in np.arange(num_top_venues):\n",
    "    try:\n",
    "        columns.append('{}{} Most Common Venue'.format(ind+1, indicators[ind]))\n",
    "    except:\n",
    "        columns.append('{}th Most Common Venue'.format(ind+1))\n",
    "\n",
    "# create a new dataframe\n",
    "zipcodes_venues_sorted = pd.DataFrame(columns=columns)\n",
    "zipcodes_venues_sorted['Zip Code'] = nyc_gb['Zip Code']\n",
    "\n",
    "for ind in np.arange(nyc_gb.shape[0]):\n",
    "    zipcodes_venues_sorted.iloc[ind, 1:] = return_most_common_venues(nyc_gb.iloc[ind, :], num_top_venues)\n",
    "\n",
    "zipcodes_venues_sorted.head()"
   ]
  },
  {
   "cell_type": "markdown",
   "metadata": {},
   "source": [
    "#### Creates a list of a range of available KMeans clusters vs their Silhoutte scores"
   ]
  },
  {
   "cell_type": "code",
   "execution_count": 56,
   "metadata": {},
   "outputs": [],
   "source": [
    "nyc_gb_clustering = nyc_gb.drop('Zip Code', 1)\n",
    "max_range = 20\n",
    "\n",
    "indices = []\n",
    "scores = []\n",
    "\n",
    "for kclusters in range(2, max_range) :\n",
    "    \n",
    "    nyc_cluster = nyc_gb_clustering\n",
    "    kmeans = KMeans(n_clusters = kclusters, init = 'k-means++', random_state = 0).fit_predict(nyc_cluster)\n",
    "    \n",
    "    score = silhouette_score(nyc_cluster, kmeans)\n",
    "    \n",
    "    indices.append(kclusters)\n",
    "    scores.append(score)"
   ]
  },
  {
   "cell_type": "markdown",
   "metadata": {},
   "source": [
    "#### Plots number of KMeans cluster vs Silhoutte scores"
   ]
  },
  {
   "cell_type": "code",
   "execution_count": 57,
   "metadata": {},
   "outputs": [
    {
     "data": {
      "image/png": "[encoded data removed]",
      "text/plain": [
       "<Figure size 1440x720 with 1 Axes>"
      ]
     },
     "metadata": {
      "needs_background": "light"
     },
     "output_type": "display_data"
    }
   ],
   "source": [
    "plt.figure(figsize=(20,10))\n",
    "plt.plot(np.arange(2, max_range), scores, 'o-')\n",
    "plt.xlabel('Number of Clusters')\n",
    "plt.ylabel('Silhoutte Score')\n",
    "plt.xticks(np.arange(2, max_range))\n",
    "plt.show()"
   ]
  },
  {
   "cell_type": "markdown",
   "metadata": {},
   "source": [
    "#### Returns the most optimal number of KMeans cluster"
   ]
  },
  {
   "cell_type": "code",
   "execution_count": 58,
   "metadata": {},
   "outputs": [
    {
     "data": {
      "text/plain": [
       "2"
      ]
     },
     "execution_count": 58,
     "metadata": {},
     "output_type": "execute_result"
    }
   ],
   "source": [
    "opt = np.argmax(scores) + 2 \n",
    "opt"
   ]
  },
  {
   "cell_type": "markdown",
   "metadata": {},
   "source": [
    "#### Runs KMeans Machine Learning algortithm"
   ]
  },
  {
   "cell_type": "code",
   "execution_count": 59,
   "metadata": {},
   "outputs": [],
   "source": [
    "kclusters = opt\n",
    "\n",
    "nyc_cluster = nyc_gb_clustering\n",
    "kmeans = KMeans(n_clusters = kclusters, init = 'k-means++', random_state = 0).fit(nyc_cluster)"
   ]
  },
  {
   "cell_type": "markdown",
   "metadata": {},
   "source": [
    "#### Inserts Clustering Labels "
   ]
  },
  {
   "cell_type": "code",
   "execution_count": 60,
   "metadata": {},
   "outputs": [
    {
     "data": {
      "text/html": [
       "<div>\n",
       "<style scoped>\n",
       "    .dataframe tbody tr th:only-of-type {\n",
       "        vertical-align: middle;\n",
       "    }\n",
       "\n",
       "    .dataframe tbody tr th {\n",
       "        vertical-align: top;\n",
       "    }\n",
       "\n",
       "    .dataframe thead th {\n",
       "        text-align: right;\n",
       "    }\n",
       "</style>\n",
       "<table border=\"1\" class=\"dataframe\">\n",
       "  <thead>\n",
       "    <tr style=\"text-align: right;\">\n",
       "      <th></th>\n",
       "      <th>Cluster Labels</th>\n",
       "      <th>Zip Code</th>\n",
       "      <th>1st Most Common Venue</th>\n",
       "      <th>2nd Most Common Venue</th>\n",
       "      <th>3rd Most Common Venue</th>\n",
       "      <th>4th Most Common Venue</th>\n",
       "      <th>5th Most Common Venue</th>\n",
       "      <th>6th Most Common Venue</th>\n",
       "      <th>7th Most Common Venue</th>\n",
       "      <th>8th Most Common Venue</th>\n",
       "      <th>9th Most Common Venue</th>\n",
       "      <th>10th Most Common Venue</th>\n",
       "    </tr>\n",
       "  </thead>\n",
       "  <tbody>\n",
       "    <tr>\n",
       "      <th>0</th>\n",
       "      <td>0</td>\n",
       "      <td>10001</td>\n",
       "      <td>Bar</td>\n",
       "      <td>Cocktail Bar</td>\n",
       "      <td>Yoga Studio</td>\n",
       "      <td>Boutique</td>\n",
       "      <td>Coffee Shop</td>\n",
       "      <td>Tea Room</td>\n",
       "      <td>Café</td>\n",
       "      <td>Scenic Lookout</td>\n",
       "      <td>Art Gallery</td>\n",
       "      <td>French Restaurant</td>\n",
       "    </tr>\n",
       "    <tr>\n",
       "      <th>1</th>\n",
       "      <td>0</td>\n",
       "      <td>10002</td>\n",
       "      <td>Italian Restaurant</td>\n",
       "      <td>Pizza Place</td>\n",
       "      <td>Sandwich Place</td>\n",
       "      <td>Coffee Shop</td>\n",
       "      <td>Wine Shop</td>\n",
       "      <td>Cocktail Bar</td>\n",
       "      <td>Grocery Store</td>\n",
       "      <td>Café</td>\n",
       "      <td>Asian Restaurant</td>\n",
       "      <td>Rock Club</td>\n",
       "    </tr>\n",
       "    <tr>\n",
       "      <th>2</th>\n",
       "      <td>0</td>\n",
       "      <td>10003</td>\n",
       "      <td>Grocery Store</td>\n",
       "      <td>Ice Cream Shop</td>\n",
       "      <td>Café</td>\n",
       "      <td>Pizza Place</td>\n",
       "      <td>Italian Restaurant</td>\n",
       "      <td>Coffee Shop</td>\n",
       "      <td>Bagel Shop</td>\n",
       "      <td>Chinese Restaurant</td>\n",
       "      <td>Juice Bar</td>\n",
       "      <td>Speakeasy</td>\n",
       "    </tr>\n",
       "    <tr>\n",
       "      <th>3</th>\n",
       "      <td>0</td>\n",
       "      <td>10004</td>\n",
       "      <td>Boat or Ferry</td>\n",
       "      <td>Cocktail Bar</td>\n",
       "      <td>Park</td>\n",
       "      <td>Mexican Restaurant</td>\n",
       "      <td>Heliport</td>\n",
       "      <td>Japanese Restaurant</td>\n",
       "      <td>History Museum</td>\n",
       "      <td>Museum</td>\n",
       "      <td>Snack Place</td>\n",
       "      <td>Pedestrian Plaza</td>\n",
       "    </tr>\n",
       "    <tr>\n",
       "      <th>4</th>\n",
       "      <td>0</td>\n",
       "      <td>10005</td>\n",
       "      <td>Coffee Shop</td>\n",
       "      <td>Gym / Fitness Center</td>\n",
       "      <td>American Restaurant</td>\n",
       "      <td>Cocktail Bar</td>\n",
       "      <td>Gym</td>\n",
       "      <td>Hotel</td>\n",
       "      <td>Falafel Restaurant</td>\n",
       "      <td>Mexican Restaurant</td>\n",
       "      <td>Park</td>\n",
       "      <td>Jewelry Store</td>\n",
       "    </tr>\n",
       "  </tbody>\n",
       "</table>\n",
       "</div>"
      ],
      "text/plain": [
       "   Cluster Labels  Zip Code 1st Most Common Venue 2nd Most Common Venue  \\\n",
       "0               0     10001                   Bar          Cocktail Bar   \n",
       "1               0     10002    Italian Restaurant           Pizza Place   \n",
       "2               0     10003         Grocery Store        Ice Cream Shop   \n",
       "3               0     10004         Boat or Ferry          Cocktail Bar   \n",
       "4               0     10005           Coffee Shop  Gym / Fitness Center   \n",
       "\n",
       "  3rd Most Common Venue 4th Most Common Venue 5th Most Common Venue  \\\n",
       "0           Yoga Studio              Boutique           Coffee Shop   \n",
       "1        Sandwich Place           Coffee Shop             Wine Shop   \n",
       "2                  Café           Pizza Place    Italian Restaurant   \n",
       "3                  Park    Mexican Restaurant              Heliport   \n",
       "4   American Restaurant          Cocktail Bar                   Gym   \n",
       "\n",
       "  6th Most Common Venue 7th Most Common Venue 8th Most Common Venue  \\\n",
       "0              Tea Room                  Café        Scenic Lookout   \n",
       "1          Cocktail Bar         Grocery Store                  Café   \n",
       "2           Coffee Shop            Bagel Shop    Chinese Restaurant   \n",
       "3   Japanese Restaurant        History Museum                Museum   \n",
       "4                 Hotel    Falafel Restaurant    Mexican Restaurant   \n",
       "\n",
       "  9th Most Common Venue 10th Most Common Venue  \n",
       "0           Art Gallery      French Restaurant  \n",
       "1      Asian Restaurant              Rock Club  \n",
       "2             Juice Bar              Speakeasy  \n",
       "3           Snack Place       Pedestrian Plaza  \n",
       "4                  Park          Jewelry Store  "
      ]
     },
     "execution_count": 60,
     "metadata": {},
     "output_type": "execute_result"
    }
   ],
   "source": [
    "zipcodes_venues_sorted.insert(0, 'Cluster Labels', kmeans.labels_)\n",
    "zipcodes_venues_sorted.head()"
   ]
  },
  {
   "cell_type": "markdown",
   "metadata": {},
   "source": [
    "#### Creates a compiled dataframe from zipcodes_venues_sorted with each zip code's coordinates"
   ]
  },
  {
   "cell_type": "code",
   "execution_count": 61,
   "metadata": {},
   "outputs": [],
   "source": [
    "df_location = df_fin[['Zip Code','Latitude','Longitude']]"
   ]
  },
  {
   "cell_type": "code",
   "execution_count": 62,
   "metadata": {},
   "outputs": [
    {
     "data": {
      "text/html": [
       "<div>\n",
       "<style scoped>\n",
       "    .dataframe tbody tr th:only-of-type {\n",
       "        vertical-align: middle;\n",
       "    }\n",
       "\n",
       "    .dataframe tbody tr th {\n",
       "        vertical-align: top;\n",
       "    }\n",
       "\n",
       "    .dataframe thead th {\n",
       "        text-align: right;\n",
       "    }\n",
       "</style>\n",
       "<table border=\"1\" class=\"dataframe\">\n",
       "  <thead>\n",
       "    <tr style=\"text-align: right;\">\n",
       "      <th></th>\n",
       "      <th>Zip Code</th>\n",
       "      <th>Latitude</th>\n",
       "      <th>Longitude</th>\n",
       "      <th>Cluster Labels</th>\n",
       "      <th>1st Most Common Venue</th>\n",
       "      <th>2nd Most Common Venue</th>\n",
       "      <th>3rd Most Common Venue</th>\n",
       "      <th>4th Most Common Venue</th>\n",
       "      <th>5th Most Common Venue</th>\n",
       "      <th>6th Most Common Venue</th>\n",
       "      <th>7th Most Common Venue</th>\n",
       "      <th>8th Most Common Venue</th>\n",
       "      <th>9th Most Common Venue</th>\n",
       "      <th>10th Most Common Venue</th>\n",
       "    </tr>\n",
       "  </thead>\n",
       "  <tbody>\n",
       "    <tr>\n",
       "      <th>0</th>\n",
       "      <td>10001</td>\n",
       "      <td>40.729825</td>\n",
       "      <td>-73.960752</td>\n",
       "      <td>0</td>\n",
       "      <td>Bar</td>\n",
       "      <td>Cocktail Bar</td>\n",
       "      <td>Yoga Studio</td>\n",
       "      <td>Boutique</td>\n",
       "      <td>Coffee Shop</td>\n",
       "      <td>Tea Room</td>\n",
       "      <td>Café</td>\n",
       "      <td>Scenic Lookout</td>\n",
       "      <td>Art Gallery</td>\n",
       "      <td>French Restaurant</td>\n",
       "    </tr>\n",
       "    <tr>\n",
       "      <th>1</th>\n",
       "      <td>10002</td>\n",
       "      <td>40.722313</td>\n",
       "      <td>-73.987709</td>\n",
       "      <td>0</td>\n",
       "      <td>Italian Restaurant</td>\n",
       "      <td>Pizza Place</td>\n",
       "      <td>Sandwich Place</td>\n",
       "      <td>Coffee Shop</td>\n",
       "      <td>Wine Shop</td>\n",
       "      <td>Cocktail Bar</td>\n",
       "      <td>Grocery Store</td>\n",
       "      <td>Café</td>\n",
       "      <td>Asian Restaurant</td>\n",
       "      <td>Rock Club</td>\n",
       "    </tr>\n",
       "    <tr>\n",
       "      <th>2</th>\n",
       "      <td>10003</td>\n",
       "      <td>40.731609</td>\n",
       "      <td>-73.988484</td>\n",
       "      <td>0</td>\n",
       "      <td>Grocery Store</td>\n",
       "      <td>Ice Cream Shop</td>\n",
       "      <td>Café</td>\n",
       "      <td>Pizza Place</td>\n",
       "      <td>Italian Restaurant</td>\n",
       "      <td>Coffee Shop</td>\n",
       "      <td>Bagel Shop</td>\n",
       "      <td>Chinese Restaurant</td>\n",
       "      <td>Juice Bar</td>\n",
       "      <td>Speakeasy</td>\n",
       "    </tr>\n",
       "    <tr>\n",
       "      <th>3</th>\n",
       "      <td>10004</td>\n",
       "      <td>40.700732</td>\n",
       "      <td>-74.013475</td>\n",
       "      <td>0</td>\n",
       "      <td>Boat or Ferry</td>\n",
       "      <td>Cocktail Bar</td>\n",
       "      <td>Park</td>\n",
       "      <td>Mexican Restaurant</td>\n",
       "      <td>Heliport</td>\n",
       "      <td>Japanese Restaurant</td>\n",
       "      <td>History Museum</td>\n",
       "      <td>Museum</td>\n",
       "      <td>Snack Place</td>\n",
       "      <td>Pedestrian Plaza</td>\n",
       "    </tr>\n",
       "    <tr>\n",
       "      <th>4</th>\n",
       "      <td>10005</td>\n",
       "      <td>40.705636</td>\n",
       "      <td>-74.008900</td>\n",
       "      <td>0</td>\n",
       "      <td>Coffee Shop</td>\n",
       "      <td>Gym / Fitness Center</td>\n",
       "      <td>American Restaurant</td>\n",
       "      <td>Cocktail Bar</td>\n",
       "      <td>Gym</td>\n",
       "      <td>Hotel</td>\n",
       "      <td>Falafel Restaurant</td>\n",
       "      <td>Mexican Restaurant</td>\n",
       "      <td>Park</td>\n",
       "      <td>Jewelry Store</td>\n",
       "    </tr>\n",
       "  </tbody>\n",
       "</table>\n",
       "</div>"
      ],
      "text/plain": [
       "   Zip Code   Latitude  Longitude  Cluster Labels 1st Most Common Venue  \\\n",
       "0     10001  40.729825 -73.960752               0                   Bar   \n",
       "1     10002  40.722313 -73.987709               0    Italian Restaurant   \n",
       "2     10003  40.731609 -73.988484               0         Grocery Store   \n",
       "3     10004  40.700732 -74.013475               0         Boat or Ferry   \n",
       "4     10005  40.705636 -74.008900               0           Coffee Shop   \n",
       "\n",
       "  2nd Most Common Venue 3rd Most Common Venue 4th Most Common Venue  \\\n",
       "0          Cocktail Bar           Yoga Studio              Boutique   \n",
       "1           Pizza Place        Sandwich Place           Coffee Shop   \n",
       "2        Ice Cream Shop                  Café           Pizza Place   \n",
       "3          Cocktail Bar                  Park    Mexican Restaurant   \n",
       "4  Gym / Fitness Center   American Restaurant          Cocktail Bar   \n",
       "\n",
       "  5th Most Common Venue 6th Most Common Venue 7th Most Common Venue  \\\n",
       "0           Coffee Shop              Tea Room                  Café   \n",
       "1             Wine Shop          Cocktail Bar         Grocery Store   \n",
       "2    Italian Restaurant           Coffee Shop            Bagel Shop   \n",
       "3              Heliport   Japanese Restaurant        History Museum   \n",
       "4                   Gym                 Hotel    Falafel Restaurant   \n",
       "\n",
       "  8th Most Common Venue 9th Most Common Venue 10th Most Common Venue  \n",
       "0        Scenic Lookout           Art Gallery      French Restaurant  \n",
       "1                  Café      Asian Restaurant              Rock Club  \n",
       "2    Chinese Restaurant             Juice Bar              Speakeasy  \n",
       "3                Museum           Snack Place       Pedestrian Plaza  \n",
       "4    Mexican Restaurant                  Park          Jewelry Store  "
      ]
     },
     "execution_count": 62,
     "metadata": {},
     "output_type": "execute_result"
    }
   ],
   "source": [
    "nyc_cluster_df = df_location\n",
    "nyc_cluster_df = nyc_cluster_df.join(zipcodes_venues_sorted.set_index('Zip Code'), on='Zip Code')\n",
    "nyc_cluster_df.dropna(inplace = True)\n",
    "nyc_cluster_df['Cluster Labels'] = nyc_cluster_df['Cluster Labels'].astype(int)\n",
    "nyc_cluster_df.head()"
   ]
  },
  {
   "cell_type": "markdown",
   "metadata": {},
   "source": [
    "### Visualizes the clustering of zipcodes"
   ]
  },
  {
   "cell_type": "code",
   "execution_count": 63,
   "metadata": {
    "scrolled": false
   },
   "outputs": [
    {
     "data": {
      "text/html": [
       "<div style=\"width:100%;\"><div style=\"position:relative;width:100%;height:0;padding-bottom:60%;\"><iframe src=\"about:blank\" style=\"position:absolute;width:100%;height:100%;left:0;top:0;border:none !important;\" data-html=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 onload=\"this.contentDocument.open();this.contentDocument.write(atob(this.getAttribute('data-html')));this.contentDocument.close();\" allowfullscreen webkitallowfullscreen mozallowfullscreen></iframe></div></div>"
      ],
      "text/plain": [
       "<folium.folium.Map at 0x1de51dc2e80>"
      ]
     },
     "execution_count": 63,
     "metadata": {},
     "output_type": "execute_result"
    }
   ],
   "source": [
    "map_clusters = folium.Map(location=[nyc_latitude, nyc_longitude], zoom_start=12)\n",
    "\n",
    "# Set color scheme for the clusters\n",
    "x = np.arange(kclusters)\n",
    "ys = [i + x + (i*x)**2 for i in range(kclusters)]\n",
    "colors_array = cm.rainbow(np.linspace(0, 1, len(ys)))\n",
    "rainbow = [colors.rgb2hex(i) for i in colors_array]\n",
    "\n",
    "# Add markers to the map\n",
    "markers_colors = []\n",
    "for lat, lon, poi, cluster in zip(nyc_cluster_df['Latitude'], nyc_cluster_df['Longitude'], nyc_cluster_df['Zip Code'], nyc_cluster_df['Cluster Labels']):\n",
    "    label = folium.Popup(str(poi) + ' (Cluster ' + str(cluster) + ')', parse_html=True)\n",
    "    map_clusters.add_child(\n",
    "        folium.features.CircleMarker(\n",
    "        [lat, lon],\n",
    "        radius=5,\n",
    "        popup=label,\n",
    "        color=rainbow[cluster-1],\n",
    "        fill=True,\n",
    "        fill_color=rainbow[cluster-1],\n",
    "        fill_opacity=0.7))\n",
    "       \n",
    "map_clusters"
   ]
  },
  {
   "cell_type": "markdown",
   "metadata": {},
   "source": [
    "#### Creates a DataFrame of outliers (entries of clusters label < 2) according to the map above"
   ]
  },
  {
   "cell_type": "code",
   "execution_count": 64,
   "metadata": {
    "scrolled": true
   },
   "outputs": [
    {
     "data": {
      "text/html": [
       "<div>\n",
       "<style scoped>\n",
       "    .dataframe tbody tr th:only-of-type {\n",
       "        vertical-align: middle;\n",
       "    }\n",
       "\n",
       "    .dataframe tbody tr th {\n",
       "        vertical-align: top;\n",
       "    }\n",
       "\n",
       "    .dataframe thead th {\n",
       "        text-align: right;\n",
       "    }\n",
       "</style>\n",
       "<table border=\"1\" class=\"dataframe\">\n",
       "  <thead>\n",
       "    <tr style=\"text-align: right;\">\n",
       "      <th></th>\n",
       "      <th>Cluster Labels</th>\n",
       "      <th>Zip Code</th>\n",
       "      <th>1st Most Common Venue</th>\n",
       "      <th>2nd Most Common Venue</th>\n",
       "      <th>3rd Most Common Venue</th>\n",
       "      <th>4th Most Common Venue</th>\n",
       "      <th>5th Most Common Venue</th>\n",
       "      <th>6th Most Common Venue</th>\n",
       "      <th>7th Most Common Venue</th>\n",
       "      <th>8th Most Common Venue</th>\n",
       "      <th>9th Most Common Venue</th>\n",
       "      <th>10th Most Common Venue</th>\n",
       "    </tr>\n",
       "  </thead>\n",
       "  <tbody>\n",
       "    <tr>\n",
       "      <th>46</th>\n",
       "      <td>1</td>\n",
       "      <td>10305</td>\n",
       "      <td>Bus Stop</td>\n",
       "      <td>Hotel</td>\n",
       "      <td>Coffee Shop</td>\n",
       "      <td>Athletics &amp; Sports</td>\n",
       "      <td>Zoo</td>\n",
       "      <td>Farm</td>\n",
       "      <td>Farmers Market</td>\n",
       "      <td>Fast Food Restaurant</td>\n",
       "      <td>Field</td>\n",
       "      <td>Filipino Restaurant</td>\n",
       "    </tr>\n",
       "  </tbody>\n",
       "</table>\n",
       "</div>"
      ],
      "text/plain": [
       "    Cluster Labels  Zip Code 1st Most Common Venue 2nd Most Common Venue  \\\n",
       "46               1     10305              Bus Stop                 Hotel   \n",
       "\n",
       "   3rd Most Common Venue 4th Most Common Venue 5th Most Common Venue  \\\n",
       "46           Coffee Shop    Athletics & Sports                   Zoo   \n",
       "\n",
       "   6th Most Common Venue 7th Most Common Venue 8th Most Common Venue  \\\n",
       "46                  Farm        Farmers Market  Fast Food Restaurant   \n",
       "\n",
       "   9th Most Common Venue 10th Most Common Venue  \n",
       "46                 Field    Filipino Restaurant  "
      ]
     },
     "execution_count": 64,
     "metadata": {},
     "output_type": "execute_result"
    }
   ],
   "source": [
    "to_explore = zipcodes_venues_sorted[zipcodes_venues_sorted['Cluster Labels'] > 0]\n",
    "to_explore"
   ]
  },
  {
   "cell_type": "markdown",
   "metadata": {},
   "source": [
    "#### Merges with df_fin to create a grand dataframe"
   ]
  },
  {
   "cell_type": "code",
   "execution_count": 65,
   "metadata": {},
   "outputs": [
    {
     "data": {
      "text/html": [
       "<div>\n",
       "<style scoped>\n",
       "    .dataframe tbody tr th:only-of-type {\n",
       "        vertical-align: middle;\n",
       "    }\n",
       "\n",
       "    .dataframe tbody tr th {\n",
       "        vertical-align: top;\n",
       "    }\n",
       "\n",
       "    .dataframe thead th {\n",
       "        text-align: right;\n",
       "    }\n",
       "</style>\n",
       "<table border=\"1\" class=\"dataframe\">\n",
       "  <thead>\n",
       "    <tr style=\"text-align: right;\">\n",
       "      <th></th>\n",
       "      <th>Cluster Labels</th>\n",
       "      <th>Zip Code</th>\n",
       "      <th>1st Most Common Venue</th>\n",
       "      <th>2nd Most Common Venue</th>\n",
       "      <th>3rd Most Common Venue</th>\n",
       "      <th>4th Most Common Venue</th>\n",
       "      <th>5th Most Common Venue</th>\n",
       "      <th>6th Most Common Venue</th>\n",
       "      <th>7th Most Common Venue</th>\n",
       "      <th>8th Most Common Venue</th>\n",
       "      <th>9th Most Common Venue</th>\n",
       "      <th>10th Most Common Venue</th>\n",
       "      <th>Latitude</th>\n",
       "      <th>Longitude</th>\n",
       "      <th>Population Density</th>\n",
       "      <th>Median Income</th>\n",
       "      <th>Positive Tests</th>\n",
       "      <th>Total Tests</th>\n",
       "      <th>Percentage of Total</th>\n",
       "      <th>Nearby Venues</th>\n",
       "    </tr>\n",
       "  </thead>\n",
       "  <tbody>\n",
       "    <tr>\n",
       "      <th>0</th>\n",
       "      <td>1</td>\n",
       "      <td>10305</td>\n",
       "      <td>Bus Stop</td>\n",
       "      <td>Hotel</td>\n",
       "      <td>Coffee Shop</td>\n",
       "      <td>Athletics &amp; Sports</td>\n",
       "      <td>Zoo</td>\n",
       "      <td>Farm</td>\n",
       "      <td>Farmers Market</td>\n",
       "      <td>Fast Food Restaurant</td>\n",
       "      <td>Field</td>\n",
       "      <td>Filipino Restaurant</td>\n",
       "      <td>40.609109</td>\n",
       "      <td>-74.07608</td>\n",
       "      <td>9908.0</td>\n",
       "      <td>77135.0</td>\n",
       "      <td>914</td>\n",
       "      <td>2128</td>\n",
       "      <td>42.95</td>\n",
       "      <td>8</td>\n",
       "    </tr>\n",
       "  </tbody>\n",
       "</table>\n",
       "</div>"
      ],
      "text/plain": [
       "   Cluster Labels  Zip Code 1st Most Common Venue 2nd Most Common Venue  \\\n",
       "0               1     10305              Bus Stop                 Hotel   \n",
       "\n",
       "  3rd Most Common Venue 4th Most Common Venue 5th Most Common Venue  \\\n",
       "0           Coffee Shop    Athletics & Sports                   Zoo   \n",
       "\n",
       "  6th Most Common Venue 7th Most Common Venue 8th Most Common Venue  \\\n",
       "0                  Farm        Farmers Market  Fast Food Restaurant   \n",
       "\n",
       "  9th Most Common Venue 10th Most Common Venue   Latitude  Longitude  \\\n",
       "0                 Field    Filipino Restaurant  40.609109  -74.07608   \n",
       "\n",
       "   Population Density  Median Income  Positive Tests  Total Tests  \\\n",
       "0              9908.0        77135.0             914         2128   \n",
       "\n",
       "   Percentage of Total  Nearby Venues  \n",
       "0                42.95              8  "
      ]
     },
     "execution_count": 65,
     "metadata": {},
     "output_type": "execute_result"
    }
   ],
   "source": [
    "df_explore = pd.merge(left=to_explore, right=df_fin, left_on='Zip Code', right_on='Zip Code')\n",
    "df_explore"
   ]
  },
  {
   "cell_type": "markdown",
   "metadata": {},
   "source": [
    "#### Removes the 6th - 10th Most Common Venue, Latitude, and Longitude columns for better visibility"
   ]
  },
  {
   "cell_type": "code",
   "execution_count": 66,
   "metadata": {},
   "outputs": [
    {
     "data": {
      "text/html": [
       "<div>\n",
       "<style scoped>\n",
       "    .dataframe tbody tr th:only-of-type {\n",
       "        vertical-align: middle;\n",
       "    }\n",
       "\n",
       "    .dataframe tbody tr th {\n",
       "        vertical-align: top;\n",
       "    }\n",
       "\n",
       "    .dataframe thead th {\n",
       "        text-align: right;\n",
       "    }\n",
       "</style>\n",
       "<table border=\"1\" class=\"dataframe\">\n",
       "  <thead>\n",
       "    <tr style=\"text-align: right;\">\n",
       "      <th></th>\n",
       "      <th>Cluster Labels</th>\n",
       "      <th>Zip Code</th>\n",
       "      <th>1st Most Common Venue</th>\n",
       "      <th>2nd Most Common Venue</th>\n",
       "      <th>3rd Most Common Venue</th>\n",
       "      <th>4th Most Common Venue</th>\n",
       "      <th>5th Most Common Venue</th>\n",
       "      <th>Population Density</th>\n",
       "      <th>Median Income</th>\n",
       "      <th>Positive Tests</th>\n",
       "      <th>Total Tests</th>\n",
       "      <th>Percentage of Total</th>\n",
       "      <th>Nearby Venues</th>\n",
       "    </tr>\n",
       "  </thead>\n",
       "  <tbody>\n",
       "    <tr>\n",
       "      <th>0</th>\n",
       "      <td>1</td>\n",
       "      <td>10305</td>\n",
       "      <td>Bus Stop</td>\n",
       "      <td>Hotel</td>\n",
       "      <td>Coffee Shop</td>\n",
       "      <td>Athletics &amp; Sports</td>\n",
       "      <td>Zoo</td>\n",
       "      <td>9908.0</td>\n",
       "      <td>77135.0</td>\n",
       "      <td>914</td>\n",
       "      <td>2128</td>\n",
       "      <td>42.95</td>\n",
       "      <td>8</td>\n",
       "    </tr>\n",
       "  </tbody>\n",
       "</table>\n",
       "</div>"
      ],
      "text/plain": [
       "   Cluster Labels  Zip Code 1st Most Common Venue 2nd Most Common Venue  \\\n",
       "0               1     10305              Bus Stop                 Hotel   \n",
       "\n",
       "  3rd Most Common Venue 4th Most Common Venue 5th Most Common Venue  \\\n",
       "0           Coffee Shop    Athletics & Sports                   Zoo   \n",
       "\n",
       "   Population Density  Median Income  Positive Tests  Total Tests  \\\n",
       "0              9908.0        77135.0             914         2128   \n",
       "\n",
       "   Percentage of Total  Nearby Venues  \n",
       "0                42.95              8  "
      ]
     },
     "execution_count": 66,
     "metadata": {},
     "output_type": "execute_result"
    }
   ],
   "source": [
    "drop_venues = ['6th Most Common Venue','7th Most Common Venue','8th Most Common Venue','9th Most Common Venue','10th Most Common Venue','Latitude','Longitude']\n",
    "df_explore.drop(drop_venues, axis = 1, inplace = True)\n",
    "df_explore"
   ]
  },
  {
   "cell_type": "markdown",
   "metadata": {},
   "source": [
    "#### Calculates the zip codes' average number of positive tests and average percentage of positive tests"
   ]
  },
  {
   "cell_type": "code",
   "execution_count": 67,
   "metadata": {},
   "outputs": [
    {
     "name": "stdout",
     "output_type": "stream",
     "text": [
      "The average number of positive tests is: 778.0\n",
      "The average percentage of positive tests is: 50.11\n",
      "The average number of venues in the zip codes is: 44.0\n"
     ]
    }
   ],
   "source": [
    "average_positive_tests = df_fin[['Positive Tests']].values.mean()\n",
    "print('The average number of positive tests is: {}'.format(round(average_positive_tests)))\n",
    "average_percentage = df_fin[['Percentage of Total']].values.mean()\n",
    "print('The average percentage of positive tests is: {}' .format(round(average_percentage,2)))\n",
    "average_venues = df_fin[['Nearby Venues']].values.mean()\n",
    "print('The average number of venues in the zip codes is: {}' .format(round(average_venues)))"
   ]
  },
  {
   "cell_type": "markdown",
   "metadata": {},
   "source": [
    "#### Calculates the outlier zip codes' average number of positive tests and average percentage of positive tests"
   ]
  },
  {
   "cell_type": "code",
   "execution_count": 68,
   "metadata": {},
   "outputs": [
    {
     "name": "stdout",
     "output_type": "stream",
     "text": [
      "The average number of positive tests for outlier zip codes is: 914.0\n",
      "The average percentage of positive tests for outlier zip codes is: 42.95\n",
      "The average number of venues in the zip codes for outlier zip codes is: 8.0\n"
     ]
    }
   ],
   "source": [
    "average_positive_tests_outlier = df_explore[['Positive Tests']].values.mean()\n",
    "print('The average number of positive tests for outlier zip codes is: {}'.format(round(average_positive_tests_outlier)))\n",
    "average_percentage_outlier = df_explore[['Percentage of Total']].values.mean()\n",
    "print('The average percentage of positive tests for outlier zip codes is: {}' .format(round(average_percentage_outlier,2)))\n",
    "average_venues_outlier = df_explore[['Nearby Venues']].values.mean()\n",
    "print('The average number of venues in the zip codes for outlier zip codes is: {}' .format(round(average_venues_outlier)))"
   ]
  },
  {
   "cell_type": "code",
   "execution_count": null,
   "metadata": {},
   "outputs": [],
   "source": []
  }
 ],
 "metadata": {
  "kernelspec": {
   "display_name": "Python 3",
   "language": "python",
   "name": "python3"
  },
  "language_info": {
   "codemirror_mode": {
    "name": "ipython",
    "version": 3
   },
   "file_extension": ".py",
   "mimetype": "text/x-python",
   "name": "python",
   "nbconvert_exporter": "python",
   "pygments_lexer": "ipython3",
   "version": "3.7.3"
  }
 },
 "nbformat": 4,
 "nbformat_minor": 2
}
